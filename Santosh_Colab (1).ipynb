{
  "nbformat": 4,
  "nbformat_minor": 0,
  "metadata": {
    "colab": {
      "name": "Santosh_Colab.ipynb",
      "provenance": [],
      "collapsed_sections": []
    },
    "kernelspec": {
      "name": "python3",
      "display_name": "Python 3"
    },
    "language_info": {
      "name": "python"
    }
  },
  "cells": [
    {
      "cell_type": "markdown",
      "metadata": {
        "id": "FrXaHwteXBVI"
      },
      "source": [
        "Importing Libraries\n"
      ]
    },
    {
      "cell_type": "code",
      "metadata": {
        "colab": {
          "base_uri": "https://localhost:8080/"
        },
        "id": "b_IFtr_lXFZU",
        "outputId": "3155820f-0f7d-455d-8d38-0fff7c1618e2"
      },
      "source": [
        "import numpy as np\n",
        "import pandas as pd\n",
        "import matplotlib.pyplot as plt\n",
        "import seaborn as sns\n",
        "from sklearn.preprocessing import LabelEncoder\n",
        "from sklearn.feature_selection import SelectKBest\n",
        "from sklearn.feature_selection import chi2\n",
        "from sklearn.ensemble import ExtraTreesClassifier\n",
        "from sklearn.metrics import classification_report, confusion_matrix\n",
        "from sklearn.ensemble import IsolationForest\n",
        "from imblearn.combine import SMOTETomek\n",
        "from collections import Counter\n",
        "from sklearn.model_selection import train_test_split\n",
        "from sklearn.linear_model import LogisticRegression\n",
        "from sklearn.metrics import accuracy_score\n",
        "from sklearn.ensemble import RandomForestClassifier\n",
        "import pickle\n",
        "from sklearn.externals import joblib\n",
        "  "
      ],
      "execution_count": 68,
      "outputs": [
        {
          "output_type": "stream",
          "text": [
            "/usr/local/lib/python3.7/dist-packages/sklearn/externals/joblib/__init__.py:15: FutureWarning: sklearn.externals.joblib is deprecated in 0.21 and will be removed in 0.23. Please import this functionality directly from joblib, which can be installed with: pip install joblib. If this warning is raised when loading pickled models, you may need to re-serialize those models with scikit-learn 0.21+.\n",
            "  warnings.warn(msg, category=FutureWarning)\n"
          ],
          "name": "stderr"
        }
      ]
    },
    {
      "cell_type": "markdown",
      "metadata": {
        "id": "kls8_qmdfn4I"
      },
      "source": [
        "Input Dataset"
      ]
    },
    {
      "cell_type": "code",
      "metadata": {
        "id": "nTRg5sqwfsG7"
      },
      "source": [
        "insurance_data = pd.read_csv('/content/drive/MyDrive/Datascience/Insurance Dataset.csv')"
      ],
      "execution_count": 2,
      "outputs": []
    },
    {
      "cell_type": "code",
      "metadata": {
        "colab": {
          "base_uri": "https://localhost:8080/"
        },
        "id": "EealQOiQgDMK",
        "outputId": "f45a26c7-cf8e-4e88-9d6d-edc27a111e49"
      },
      "source": [
        "insurance_data.info()"
      ],
      "execution_count": 5,
      "outputs": [
        {
          "output_type": "stream",
          "text": [
            "<class 'pandas.core.frame.DataFrame'>\n",
            "RangeIndex: 1048575 entries, 0 to 1048574\n",
            "Data columns (total 24 columns):\n",
            " #   Column                                 Non-Null Count    Dtype  \n",
            "---  ------                                 --------------    -----  \n",
            " 0   Area_Service                           1046119 non-null  object \n",
            " 1   Hospital County                        1046119 non-null  object \n",
            " 2   Hospital Id                            1046119 non-null  float64\n",
            " 3   Age                                    1048575 non-null  object \n",
            " 4   Gender                                 1048575 non-null  object \n",
            " 5   Cultural_group                         1048575 non-null  object \n",
            " 6   ethnicity                              1048575 non-null  object \n",
            " 7   Days_spend_hsptl                       1048575 non-null  object \n",
            " 8   Admission_type                         1048575 non-null  object \n",
            " 9   Home or self care,                     1048575 non-null  object \n",
            " 10  ccs_diagnosis_code                     1048575 non-null  int64  \n",
            " 11  ccs_procedure_code                     1048575 non-null  int64  \n",
            " 12  apr_drg_description                    1048575 non-null  object \n",
            " 13  Code_illness                           1048575 non-null  int64  \n",
            " 14  Mortality risk                         1048533 non-null  float64\n",
            " 15  Surg_Description                       1048575 non-null  object \n",
            " 16  Weight_baby                            1048575 non-null  int64  \n",
            " 17  Abortion                               1048575 non-null  object \n",
            " 18  Emergency dept_yes/No                  1048575 non-null  object \n",
            " 19  Tot_charg                              1048575 non-null  float64\n",
            " 20  Tot_cost                               1048575 non-null  float64\n",
            " 21  ratio_of_total_costs_to_total_charges  1048575 non-null  float64\n",
            " 22  Result                                 1048575 non-null  int64  \n",
            " 23  Payment_Typology                       1048575 non-null  int64  \n",
            "dtypes: float64(5), int64(6), object(13)\n",
            "memory usage: 192.0+ MB\n"
          ],
          "name": "stdout"
        }
      ]
    },
    {
      "cell_type": "code",
      "metadata": {
        "colab": {
          "base_uri": "https://localhost:8080/",
          "height": 447
        },
        "id": "gGsmpD_kgQQR",
        "outputId": "114812dd-c44b-4c3c-a0a8-5a31b0d9f91a"
      },
      "source": [
        "insurance_data.head()"
      ],
      "execution_count": 6,
      "outputs": [
        {
          "output_type": "execute_result",
          "data": {
            "text/html": [
              "<div>\n",
              "<style scoped>\n",
              "    .dataframe tbody tr th:only-of-type {\n",
              "        vertical-align: middle;\n",
              "    }\n",
              "\n",
              "    .dataframe tbody tr th {\n",
              "        vertical-align: top;\n",
              "    }\n",
              "\n",
              "    .dataframe thead th {\n",
              "        text-align: right;\n",
              "    }\n",
              "</style>\n",
              "<table border=\"1\" class=\"dataframe\">\n",
              "  <thead>\n",
              "    <tr style=\"text-align: right;\">\n",
              "      <th></th>\n",
              "      <th>Area_Service</th>\n",
              "      <th>Hospital County</th>\n",
              "      <th>Hospital Id</th>\n",
              "      <th>Age</th>\n",
              "      <th>Gender</th>\n",
              "      <th>Cultural_group</th>\n",
              "      <th>ethnicity</th>\n",
              "      <th>Days_spend_hsptl</th>\n",
              "      <th>Admission_type</th>\n",
              "      <th>Home or self care,</th>\n",
              "      <th>ccs_diagnosis_code</th>\n",
              "      <th>ccs_procedure_code</th>\n",
              "      <th>apr_drg_description</th>\n",
              "      <th>Code_illness</th>\n",
              "      <th>Mortality risk</th>\n",
              "      <th>Surg_Description</th>\n",
              "      <th>Weight_baby</th>\n",
              "      <th>Abortion</th>\n",
              "      <th>Emergency dept_yes/No</th>\n",
              "      <th>Tot_charg</th>\n",
              "      <th>Tot_cost</th>\n",
              "      <th>ratio_of_total_costs_to_total_charges</th>\n",
              "      <th>Result</th>\n",
              "      <th>Payment_Typology</th>\n",
              "    </tr>\n",
              "  </thead>\n",
              "  <tbody>\n",
              "    <tr>\n",
              "      <th>0</th>\n",
              "      <td>Western NY</td>\n",
              "      <td>Allegany</td>\n",
              "      <td>37.0</td>\n",
              "      <td>30 to 49</td>\n",
              "      <td>F</td>\n",
              "      <td>White</td>\n",
              "      <td>Not Span/Hispanic</td>\n",
              "      <td>4</td>\n",
              "      <td>Elective</td>\n",
              "      <td>Home or Self Care</td>\n",
              "      <td>122</td>\n",
              "      <td>0</td>\n",
              "      <td>Other pneumonia</td>\n",
              "      <td>1</td>\n",
              "      <td>1.0</td>\n",
              "      <td>Medical</td>\n",
              "      <td>0</td>\n",
              "      <td>N</td>\n",
              "      <td>Y</td>\n",
              "      <td>5511.95</td>\n",
              "      <td>5582.49</td>\n",
              "      <td>1.012798</td>\n",
              "      <td>1</td>\n",
              "      <td>1</td>\n",
              "    </tr>\n",
              "    <tr>\n",
              "      <th>1</th>\n",
              "      <td>Western NY</td>\n",
              "      <td>Allegany</td>\n",
              "      <td>37.0</td>\n",
              "      <td>70 or Older</td>\n",
              "      <td>F</td>\n",
              "      <td>White</td>\n",
              "      <td>Not Span/Hispanic</td>\n",
              "      <td>4</td>\n",
              "      <td>Urgent</td>\n",
              "      <td>Short-term Hospital</td>\n",
              "      <td>197</td>\n",
              "      <td>0</td>\n",
              "      <td>Cellulitis &amp; other skin infections</td>\n",
              "      <td>3</td>\n",
              "      <td>2.0</td>\n",
              "      <td>Medical</td>\n",
              "      <td>0</td>\n",
              "      <td>N</td>\n",
              "      <td>Y</td>\n",
              "      <td>4783.20</td>\n",
              "      <td>5162.82</td>\n",
              "      <td>1.079365</td>\n",
              "      <td>1</td>\n",
              "      <td>1</td>\n",
              "    </tr>\n",
              "    <tr>\n",
              "      <th>2</th>\n",
              "      <td>Western NY</td>\n",
              "      <td>Allegany</td>\n",
              "      <td>37.0</td>\n",
              "      <td>30 to 49</td>\n",
              "      <td>F</td>\n",
              "      <td>White</td>\n",
              "      <td>Not Span/Hispanic</td>\n",
              "      <td>3</td>\n",
              "      <td>Urgent</td>\n",
              "      <td>Home or Self Care</td>\n",
              "      <td>122</td>\n",
              "      <td>0</td>\n",
              "      <td>Other pneumonia</td>\n",
              "      <td>1</td>\n",
              "      <td>1.0</td>\n",
              "      <td>Medical</td>\n",
              "      <td>0</td>\n",
              "      <td>N</td>\n",
              "      <td>Y</td>\n",
              "      <td>3829.15</td>\n",
              "      <td>4056.52</td>\n",
              "      <td>1.059379</td>\n",
              "      <td>1</td>\n",
              "      <td>1</td>\n",
              "    </tr>\n",
              "    <tr>\n",
              "      <th>3</th>\n",
              "      <td>Western NY</td>\n",
              "      <td>Allegany</td>\n",
              "      <td>37.0</td>\n",
              "      <td>0 to 17</td>\n",
              "      <td>F</td>\n",
              "      <td>White</td>\n",
              "      <td>Not Span/Hispanic</td>\n",
              "      <td>1</td>\n",
              "      <td>Urgent</td>\n",
              "      <td>Home or Self Care</td>\n",
              "      <td>122</td>\n",
              "      <td>0</td>\n",
              "      <td>Other pneumonia</td>\n",
              "      <td>1</td>\n",
              "      <td>1.0</td>\n",
              "      <td>Medical</td>\n",
              "      <td>0</td>\n",
              "      <td>N</td>\n",
              "      <td>Y</td>\n",
              "      <td>1108.20</td>\n",
              "      <td>1644.75</td>\n",
              "      <td>1.484167</td>\n",
              "      <td>0</td>\n",
              "      <td>1</td>\n",
              "    </tr>\n",
              "    <tr>\n",
              "      <th>4</th>\n",
              "      <td>Western NY</td>\n",
              "      <td>Allegany</td>\n",
              "      <td>37.0</td>\n",
              "      <td>70 or Older</td>\n",
              "      <td>F</td>\n",
              "      <td>White</td>\n",
              "      <td>Not Span/Hispanic</td>\n",
              "      <td>3</td>\n",
              "      <td>Elective</td>\n",
              "      <td>Home or Self Care</td>\n",
              "      <td>122</td>\n",
              "      <td>0</td>\n",
              "      <td>Other pneumonia</td>\n",
              "      <td>2</td>\n",
              "      <td>3.0</td>\n",
              "      <td>Medical</td>\n",
              "      <td>0</td>\n",
              "      <td>N</td>\n",
              "      <td>Y</td>\n",
              "      <td>3418.18</td>\n",
              "      <td>3370.87</td>\n",
              "      <td>0.986161</td>\n",
              "      <td>1</td>\n",
              "      <td>1</td>\n",
              "    </tr>\n",
              "  </tbody>\n",
              "</table>\n",
              "</div>"
            ],
            "text/plain": [
              "  Area_Service Hospital County  ...  Result Payment_Typology\n",
              "0   Western NY        Allegany  ...       1                1\n",
              "1   Western NY        Allegany  ...       1                1\n",
              "2   Western NY        Allegany  ...       1                1\n",
              "3   Western NY        Allegany  ...       0                1\n",
              "4   Western NY        Allegany  ...       1                1\n",
              "\n",
              "[5 rows x 24 columns]"
            ]
          },
          "metadata": {
            "tags": []
          },
          "execution_count": 6
        }
      ]
    },
    {
      "cell_type": "code",
      "metadata": {
        "colab": {
          "base_uri": "https://localhost:8080/",
          "height": 482
        },
        "id": "XRNqE8a_gwS6",
        "outputId": "3b49b6f7-8afc-4452-bb9a-4164c001b88d"
      },
      "source": [
        "insurance_data.tail()"
      ],
      "execution_count": 7,
      "outputs": [
        {
          "output_type": "execute_result",
          "data": {
            "text/html": [
              "<div>\n",
              "<style scoped>\n",
              "    .dataframe tbody tr th:only-of-type {\n",
              "        vertical-align: middle;\n",
              "    }\n",
              "\n",
              "    .dataframe tbody tr th {\n",
              "        vertical-align: top;\n",
              "    }\n",
              "\n",
              "    .dataframe thead th {\n",
              "        text-align: right;\n",
              "    }\n",
              "</style>\n",
              "<table border=\"1\" class=\"dataframe\">\n",
              "  <thead>\n",
              "    <tr style=\"text-align: right;\">\n",
              "      <th></th>\n",
              "      <th>Area_Service</th>\n",
              "      <th>Hospital County</th>\n",
              "      <th>Hospital Id</th>\n",
              "      <th>Age</th>\n",
              "      <th>Gender</th>\n",
              "      <th>Cultural_group</th>\n",
              "      <th>ethnicity</th>\n",
              "      <th>Days_spend_hsptl</th>\n",
              "      <th>Admission_type</th>\n",
              "      <th>Home or self care,</th>\n",
              "      <th>ccs_diagnosis_code</th>\n",
              "      <th>ccs_procedure_code</th>\n",
              "      <th>apr_drg_description</th>\n",
              "      <th>Code_illness</th>\n",
              "      <th>Mortality risk</th>\n",
              "      <th>Surg_Description</th>\n",
              "      <th>Weight_baby</th>\n",
              "      <th>Abortion</th>\n",
              "      <th>Emergency dept_yes/No</th>\n",
              "      <th>Tot_charg</th>\n",
              "      <th>Tot_cost</th>\n",
              "      <th>ratio_of_total_costs_to_total_charges</th>\n",
              "      <th>Result</th>\n",
              "      <th>Payment_Typology</th>\n",
              "    </tr>\n",
              "  </thead>\n",
              "  <tbody>\n",
              "    <tr>\n",
              "      <th>1048570</th>\n",
              "      <td>New York City</td>\n",
              "      <td>Bronx</td>\n",
              "      <td>1169.0</td>\n",
              "      <td>70 or Older</td>\n",
              "      <td>F</td>\n",
              "      <td>Other Race</td>\n",
              "      <td>Spanish/Hispanic</td>\n",
              "      <td>6</td>\n",
              "      <td>Emergency</td>\n",
              "      <td>Skilled Nursing Home</td>\n",
              "      <td>106</td>\n",
              "      <td>29</td>\n",
              "      <td>Cardiac arrhythmia &amp; conduction disorders</td>\n",
              "      <td>2</td>\n",
              "      <td>3.0</td>\n",
              "      <td>Medical</td>\n",
              "      <td>0</td>\n",
              "      <td>N</td>\n",
              "      <td>Y</td>\n",
              "      <td>69650.41</td>\n",
              "      <td>13896.82</td>\n",
              "      <td>0.199522</td>\n",
              "      <td>1</td>\n",
              "      <td>3</td>\n",
              "    </tr>\n",
              "    <tr>\n",
              "      <th>1048571</th>\n",
              "      <td>New York City</td>\n",
              "      <td>Bronx</td>\n",
              "      <td>1169.0</td>\n",
              "      <td>0 to 17</td>\n",
              "      <td>F</td>\n",
              "      <td>Other Race</td>\n",
              "      <td>Not Span/Hispanic</td>\n",
              "      <td>2</td>\n",
              "      <td>Emergency</td>\n",
              "      <td>Home or Self Care</td>\n",
              "      <td>8</td>\n",
              "      <td>231</td>\n",
              "      <td>Other infectious &amp; parasitic diseases</td>\n",
              "      <td>2</td>\n",
              "      <td>1.0</td>\n",
              "      <td>Medical</td>\n",
              "      <td>0</td>\n",
              "      <td>N</td>\n",
              "      <td>N</td>\n",
              "      <td>13587.38</td>\n",
              "      <td>3918.35</td>\n",
              "      <td>0.288382</td>\n",
              "      <td>1</td>\n",
              "      <td>3</td>\n",
              "    </tr>\n",
              "    <tr>\n",
              "      <th>1048572</th>\n",
              "      <td>New York City</td>\n",
              "      <td>Bronx</td>\n",
              "      <td>1169.0</td>\n",
              "      <td>50 to 69</td>\n",
              "      <td>M</td>\n",
              "      <td>Other Race</td>\n",
              "      <td>Spanish/Hispanic</td>\n",
              "      <td>13</td>\n",
              "      <td>Emergency</td>\n",
              "      <td>Medicare Cert Long Term Care Hospital</td>\n",
              "      <td>151</td>\n",
              "      <td>88</td>\n",
              "      <td>Hepatic coma &amp; other major acute liver disorders</td>\n",
              "      <td>4</td>\n",
              "      <td>4.0</td>\n",
              "      <td>Medical</td>\n",
              "      <td>0</td>\n",
              "      <td>N</td>\n",
              "      <td>Y</td>\n",
              "      <td>104629.78</td>\n",
              "      <td>24746.64</td>\n",
              "      <td>0.236516</td>\n",
              "      <td>0</td>\n",
              "      <td>3</td>\n",
              "    </tr>\n",
              "    <tr>\n",
              "      <th>1048573</th>\n",
              "      <td>New York City</td>\n",
              "      <td>Bronx</td>\n",
              "      <td>1169.0</td>\n",
              "      <td>30 to 49</td>\n",
              "      <td>F</td>\n",
              "      <td>Black/African American</td>\n",
              "      <td>Not Span/Hispanic</td>\n",
              "      <td>2</td>\n",
              "      <td>Emergency</td>\n",
              "      <td>Home or Self Care</td>\n",
              "      <td>143</td>\n",
              "      <td>86</td>\n",
              "      <td>Inguinal, femoral &amp; umbilical hernia procedures</td>\n",
              "      <td>1</td>\n",
              "      <td>1.0</td>\n",
              "      <td>Surgical</td>\n",
              "      <td>0</td>\n",
              "      <td>N</td>\n",
              "      <td>Y</td>\n",
              "      <td>27521.41</td>\n",
              "      <td>6766.04</td>\n",
              "      <td>0.245846</td>\n",
              "      <td>1</td>\n",
              "      <td>3</td>\n",
              "    </tr>\n",
              "    <tr>\n",
              "      <th>1048574</th>\n",
              "      <td>New York City</td>\n",
              "      <td>Bronx</td>\n",
              "      <td>1169.0</td>\n",
              "      <td>50 to 69</td>\n",
              "      <td>M</td>\n",
              "      <td>Other Race</td>\n",
              "      <td>Spanish/Hispanic</td>\n",
              "      <td>2</td>\n",
              "      <td>Emergency</td>\n",
              "      <td>Home or Self Care</td>\n",
              "      <td>106</td>\n",
              "      <td>0</td>\n",
              "      <td>Cardiac arrhythmia &amp; conduction disorders</td>\n",
              "      <td>1</td>\n",
              "      <td>1.0</td>\n",
              "      <td>Medical</td>\n",
              "      <td>0</td>\n",
              "      <td>N</td>\n",
              "      <td>Y</td>\n",
              "      <td>24832.23</td>\n",
              "      <td>4974.66</td>\n",
              "      <td>0.200331</td>\n",
              "      <td>1</td>\n",
              "      <td>2</td>\n",
              "    </tr>\n",
              "  </tbody>\n",
              "</table>\n",
              "</div>"
            ],
            "text/plain": [
              "          Area_Service Hospital County  ...  Result Payment_Typology\n",
              "1048570  New York City           Bronx  ...       1                3\n",
              "1048571  New York City           Bronx  ...       1                3\n",
              "1048572  New York City           Bronx  ...       0                3\n",
              "1048573  New York City           Bronx  ...       1                3\n",
              "1048574  New York City           Bronx  ...       1                2\n",
              "\n",
              "[5 rows x 24 columns]"
            ]
          },
          "metadata": {
            "tags": []
          },
          "execution_count": 7
        }
      ]
    },
    {
      "cell_type": "code",
      "metadata": {
        "colab": {
          "base_uri": "https://localhost:8080/"
        },
        "id": "R8JlazmxhiYu",
        "outputId": "f560abee-c18c-4698-f436-ad15f4bf20ef"
      },
      "source": [
        "insurance_data.shape"
      ],
      "execution_count": 8,
      "outputs": [
        {
          "output_type": "execute_result",
          "data": {
            "text/plain": [
              "(1048575, 24)"
            ]
          },
          "metadata": {
            "tags": []
          },
          "execution_count": 8
        }
      ]
    },
    {
      "cell_type": "markdown",
      "metadata": {
        "id": "UiOo70TegRXp"
      },
      "source": [
        "Data Cleaning\n"
      ]
    },
    {
      "cell_type": "code",
      "metadata": {
        "colab": {
          "base_uri": "https://localhost:8080/"
        },
        "id": "gs1z1VT7g3qQ",
        "outputId": "210b7b0a-f644-461f-81ed-1d4e0a664be8"
      },
      "source": [
        "insurance_data.isnull().sum()"
      ],
      "execution_count": 9,
      "outputs": [
        {
          "output_type": "execute_result",
          "data": {
            "text/plain": [
              "Area_Service                             2456\n",
              "Hospital County                          2456\n",
              "Hospital Id                              2456\n",
              "Age                                         0\n",
              "Gender                                      0\n",
              "Cultural_group                              0\n",
              "ethnicity                                   0\n",
              "Days_spend_hsptl                            0\n",
              "Admission_type                              0\n",
              "Home or self care,                          0\n",
              "ccs_diagnosis_code                          0\n",
              "ccs_procedure_code                          0\n",
              "apr_drg_description                         0\n",
              "Code_illness                                0\n",
              "Mortality risk                             42\n",
              "Surg_Description                            0\n",
              "Weight_baby                                 0\n",
              "Abortion                                    0\n",
              "Emergency dept_yes/No                       0\n",
              "Tot_charg                                   0\n",
              "Tot_cost                                    0\n",
              "ratio_of_total_costs_to_total_charges       0\n",
              "Result                                      0\n",
              "Payment_Typology                            0\n",
              "dtype: int64"
            ]
          },
          "metadata": {
            "tags": []
          },
          "execution_count": 9
        }
      ]
    },
    {
      "cell_type": "markdown",
      "metadata": {
        "id": "QWFgH-zYlcQq"
      },
      "source": [
        "Dropping NA Values"
      ]
    },
    {
      "cell_type": "code",
      "metadata": {
        "id": "VHF9Oo2yhYTT"
      },
      "source": [
        "insurance_data.dropna(inplace=True)"
      ],
      "execution_count": 3,
      "outputs": []
    },
    {
      "cell_type": "code",
      "metadata": {
        "colab": {
          "base_uri": "https://localhost:8080/"
        },
        "id": "VIQHCLBHkV71",
        "outputId": "ea363c82-c65c-4c60-b63d-7e9dbdc15aa6"
      },
      "source": [
        "insurance_data.shape"
      ],
      "execution_count": 4,
      "outputs": [
        {
          "output_type": "execute_result",
          "data": {
            "text/plain": [
              "(1046077, 24)"
            ]
          },
          "metadata": {
            "tags": []
          },
          "execution_count": 4
        }
      ]
    },
    {
      "cell_type": "markdown",
      "metadata": {
        "id": "Qt69dOtklg2v"
      },
      "source": [
        "Dropping Duplicates"
      ]
    },
    {
      "cell_type": "code",
      "metadata": {
        "id": "2FTNgcYolNVy"
      },
      "source": [
        "insurance_data.drop_duplicates(inplace=True,ignore_index=True)"
      ],
      "execution_count": 5,
      "outputs": []
    },
    {
      "cell_type": "code",
      "metadata": {
        "colab": {
          "base_uri": "https://localhost:8080/"
        },
        "id": "WndAhuoylYLN",
        "outputId": "a168c92a-b030-4d70-9cd6-6d83813cc565"
      },
      "source": [
        "insurance_data.shape"
      ],
      "execution_count": 13,
      "outputs": [
        {
          "output_type": "execute_result",
          "data": {
            "text/plain": [
              "(1041265, 24)"
            ]
          },
          "metadata": {
            "tags": []
          },
          "execution_count": 13
        }
      ]
    },
    {
      "cell_type": "code",
      "metadata": {
        "colab": {
          "base_uri": "https://localhost:8080/"
        },
        "id": "Naewp2umlkgS",
        "outputId": "330c5d8c-fb80-4d13-babe-c986ad3d69dd"
      },
      "source": [
        "insurance_data.info()"
      ],
      "execution_count": 14,
      "outputs": [
        {
          "output_type": "stream",
          "text": [
            "<class 'pandas.core.frame.DataFrame'>\n",
            "RangeIndex: 1041265 entries, 0 to 1041264\n",
            "Data columns (total 24 columns):\n",
            " #   Column                                 Non-Null Count    Dtype  \n",
            "---  ------                                 --------------    -----  \n",
            " 0   Area_Service                           1041265 non-null  object \n",
            " 1   Hospital County                        1041265 non-null  object \n",
            " 2   Hospital Id                            1041265 non-null  float64\n",
            " 3   Age                                    1041265 non-null  object \n",
            " 4   Gender                                 1041265 non-null  object \n",
            " 5   Cultural_group                         1041265 non-null  object \n",
            " 6   ethnicity                              1041265 non-null  object \n",
            " 7   Days_spend_hsptl                       1041265 non-null  object \n",
            " 8   Admission_type                         1041265 non-null  object \n",
            " 9   Home or self care,                     1041265 non-null  object \n",
            " 10  ccs_diagnosis_code                     1041265 non-null  int64  \n",
            " 11  ccs_procedure_code                     1041265 non-null  int64  \n",
            " 12  apr_drg_description                    1041265 non-null  object \n",
            " 13  Code_illness                           1041265 non-null  int64  \n",
            " 14  Mortality risk                         1041265 non-null  float64\n",
            " 15  Surg_Description                       1041265 non-null  object \n",
            " 16  Weight_baby                            1041265 non-null  int64  \n",
            " 17  Abortion                               1041265 non-null  object \n",
            " 18  Emergency dept_yes/No                  1041265 non-null  object \n",
            " 19  Tot_charg                              1041265 non-null  float64\n",
            " 20  Tot_cost                               1041265 non-null  float64\n",
            " 21  ratio_of_total_costs_to_total_charges  1041265 non-null  float64\n",
            " 22  Result                                 1041265 non-null  int64  \n",
            " 23  Payment_Typology                       1041265 non-null  int64  \n",
            "dtypes: float64(5), int64(6), object(13)\n",
            "memory usage: 190.7+ MB\n"
          ],
          "name": "stdout"
        }
      ]
    },
    {
      "cell_type": "code",
      "metadata": {
        "colab": {
          "base_uri": "https://localhost:8080/",
          "height": 331
        },
        "id": "NheBiRGfl8Gg",
        "outputId": "87a547eb-7ec3-460b-d284-5c31e9e281d1"
      },
      "source": [
        "insurance_data.describe()"
      ],
      "execution_count": 15,
      "outputs": [
        {
          "output_type": "execute_result",
          "data": {
            "text/html": [
              "<div>\n",
              "<style scoped>\n",
              "    .dataframe tbody tr th:only-of-type {\n",
              "        vertical-align: middle;\n",
              "    }\n",
              "\n",
              "    .dataframe tbody tr th {\n",
              "        vertical-align: top;\n",
              "    }\n",
              "\n",
              "    .dataframe thead th {\n",
              "        text-align: right;\n",
              "    }\n",
              "</style>\n",
              "<table border=\"1\" class=\"dataframe\">\n",
              "  <thead>\n",
              "    <tr style=\"text-align: right;\">\n",
              "      <th></th>\n",
              "      <th>Hospital Id</th>\n",
              "      <th>ccs_diagnosis_code</th>\n",
              "      <th>ccs_procedure_code</th>\n",
              "      <th>Code_illness</th>\n",
              "      <th>Mortality risk</th>\n",
              "      <th>Weight_baby</th>\n",
              "      <th>Tot_charg</th>\n",
              "      <th>Tot_cost</th>\n",
              "      <th>ratio_of_total_costs_to_total_charges</th>\n",
              "      <th>Result</th>\n",
              "      <th>Payment_Typology</th>\n",
              "    </tr>\n",
              "  </thead>\n",
              "  <tbody>\n",
              "    <tr>\n",
              "      <th>count</th>\n",
              "      <td>1.041265e+06</td>\n",
              "      <td>1.041265e+06</td>\n",
              "      <td>1.041265e+06</td>\n",
              "      <td>1.041265e+06</td>\n",
              "      <td>1.041265e+06</td>\n",
              "      <td>1.041265e+06</td>\n",
              "      <td>1.041265e+06</td>\n",
              "      <td>1.041265e+06</td>\n",
              "      <td>1.041265e+06</td>\n",
              "      <td>1.041265e+06</td>\n",
              "      <td>1.041265e+06</td>\n",
              "    </tr>\n",
              "    <tr>\n",
              "      <th>mean</th>\n",
              "      <td>6.525299e+02</td>\n",
              "      <td>1.986232e+02</td>\n",
              "      <td>9.708783e+01</td>\n",
              "      <td>2.057127e+00</td>\n",
              "      <td>1.753033e+00</td>\n",
              "      <td>2.822095e+02</td>\n",
              "      <td>2.721891e+04</td>\n",
              "      <td>1.050903e+04</td>\n",
              "      <td>4.560897e-01</td>\n",
              "      <td>7.494355e-01</td>\n",
              "      <td>1.938392e+00</td>\n",
              "    </tr>\n",
              "    <tr>\n",
              "      <th>std</th>\n",
              "      <td>6.696444e+02</td>\n",
              "      <td>1.655839e+02</td>\n",
              "      <td>8.729973e+01</td>\n",
              "      <td>9.141524e-01</td>\n",
              "      <td>9.875512e-01</td>\n",
              "      <td>9.324650e+02</td>\n",
              "      <td>5.502059e+04</td>\n",
              "      <td>2.234352e+04</td>\n",
              "      <td>8.026395e-01</td>\n",
              "      <td>4.333383e-01</td>\n",
              "      <td>7.717183e-01</td>\n",
              "    </tr>\n",
              "    <tr>\n",
              "      <th>min</th>\n",
              "      <td>1.000000e+00</td>\n",
              "      <td>1.000000e+00</td>\n",
              "      <td>0.000000e+00</td>\n",
              "      <td>1.000000e+00</td>\n",
              "      <td>1.000000e+00</td>\n",
              "      <td>0.000000e+00</td>\n",
              "      <td>3.100000e-01</td>\n",
              "      <td>1.000000e-01</td>\n",
              "      <td>3.312909e-02</td>\n",
              "      <td>0.000000e+00</td>\n",
              "      <td>1.000000e+00</td>\n",
              "    </tr>\n",
              "    <tr>\n",
              "      <th>25%</th>\n",
              "      <td>2.130000e+02</td>\n",
              "      <td>1.080000e+02</td>\n",
              "      <td>0.000000e+00</td>\n",
              "      <td>1.000000e+00</td>\n",
              "      <td>1.000000e+00</td>\n",
              "      <td>0.000000e+00</td>\n",
              "      <td>7.480430e+03</td>\n",
              "      <td>3.264680e+03</td>\n",
              "      <td>3.133504e-01</td>\n",
              "      <td>0.000000e+00</td>\n",
              "      <td>1.000000e+00</td>\n",
              "    </tr>\n",
              "    <tr>\n",
              "      <th>50%</th>\n",
              "      <td>6.300000e+02</td>\n",
              "      <td>1.590000e+02</td>\n",
              "      <td>8.800000e+01</td>\n",
              "      <td>2.000000e+00</td>\n",
              "      <td>1.000000e+00</td>\n",
              "      <td>0.000000e+00</td>\n",
              "      <td>1.468769e+04</td>\n",
              "      <td>5.962550e+03</td>\n",
              "      <td>4.089940e-01</td>\n",
              "      <td>1.000000e+00</td>\n",
              "      <td>2.000000e+00</td>\n",
              "    </tr>\n",
              "    <tr>\n",
              "      <th>75%</th>\n",
              "      <td>9.770000e+02</td>\n",
              "      <td>2.180000e+02</td>\n",
              "      <td>1.730000e+02</td>\n",
              "      <td>3.000000e+00</td>\n",
              "      <td>3.000000e+00</td>\n",
              "      <td>0.000000e+00</td>\n",
              "      <td>2.928040e+04</td>\n",
              "      <td>1.138990e+04</td>\n",
              "      <td>5.186988e-01</td>\n",
              "      <td>1.000000e+00</td>\n",
              "      <td>3.000000e+00</td>\n",
              "    </tr>\n",
              "    <tr>\n",
              "      <th>max</th>\n",
              "      <td>9.250000e+03</td>\n",
              "      <td>6.700000e+02</td>\n",
              "      <td>2.310000e+02</td>\n",
              "      <td>4.000000e+00</td>\n",
              "      <td>4.000000e+00</td>\n",
              "      <td>9.000000e+03</td>\n",
              "      <td>6.196974e+06</td>\n",
              "      <td>2.562478e+06</td>\n",
              "      <td>1.575596e+02</td>\n",
              "      <td>1.000000e+00</td>\n",
              "      <td>5.000000e+00</td>\n",
              "    </tr>\n",
              "  </tbody>\n",
              "</table>\n",
              "</div>"
            ],
            "text/plain": [
              "        Hospital Id  ccs_diagnosis_code  ...        Result  Payment_Typology\n",
              "count  1.041265e+06        1.041265e+06  ...  1.041265e+06      1.041265e+06\n",
              "mean   6.525299e+02        1.986232e+02  ...  7.494355e-01      1.938392e+00\n",
              "std    6.696444e+02        1.655839e+02  ...  4.333383e-01      7.717183e-01\n",
              "min    1.000000e+00        1.000000e+00  ...  0.000000e+00      1.000000e+00\n",
              "25%    2.130000e+02        1.080000e+02  ...  0.000000e+00      1.000000e+00\n",
              "50%    6.300000e+02        1.590000e+02  ...  1.000000e+00      2.000000e+00\n",
              "75%    9.770000e+02        2.180000e+02  ...  1.000000e+00      3.000000e+00\n",
              "max    9.250000e+03        6.700000e+02  ...  1.000000e+00      5.000000e+00\n",
              "\n",
              "[8 rows x 11 columns]"
            ]
          },
          "metadata": {
            "tags": []
          },
          "execution_count": 15
        }
      ]
    },
    {
      "cell_type": "markdown",
      "metadata": {
        "id": "NLKEXF4omlPc"
      },
      "source": [
        "Feature selection"
      ]
    },
    {
      "cell_type": "code",
      "metadata": {
        "colab": {
          "base_uri": "https://localhost:8080/"
        },
        "id": "wZ418g1EmN23",
        "outputId": "65ebb26f-1be5-4c77-b1f6-6a0f48d419c6"
      },
      "source": [
        "insurance_data.columns"
      ],
      "execution_count": 6,
      "outputs": [
        {
          "output_type": "execute_result",
          "data": {
            "text/plain": [
              "Index(['Area_Service', 'Hospital County', 'Hospital Id', 'Age', 'Gender',\n",
              "       'Cultural_group', 'ethnicity', 'Days_spend_hsptl', 'Admission_type',\n",
              "       'Home or self care,', 'ccs_diagnosis_code', 'ccs_procedure_code',\n",
              "       'apr_drg_description', 'Code_illness', 'Mortality risk',\n",
              "       'Surg_Description', 'Weight_baby', 'Abortion', 'Emergency dept_yes/No',\n",
              "       'Tot_charg', 'Tot_cost', 'ratio_of_total_costs_to_total_charges',\n",
              "       'Result', 'Payment_Typology'],\n",
              "      dtype='object')"
            ]
          },
          "metadata": {
            "tags": []
          },
          "execution_count": 6
        }
      ]
    },
    {
      "cell_type": "code",
      "metadata": {
        "id": "MubDL2D9of4M"
      },
      "source": [
        "insurance_data = insurance_data[['Area_Service', 'Hospital County', 'Hospital Id', 'Age', 'Gender',\n",
        "       'Cultural_group', 'ethnicity', 'Days_spend_hsptl', 'Admission_type',\n",
        "       'Home or self care,', 'ccs_diagnosis_code', 'ccs_procedure_code',\n",
        "       'apr_drg_description', 'Code_illness', 'Mortality risk',\n",
        "       'Surg_Description', 'Weight_baby', 'Abortion', 'Emergency dept_yes/No',\n",
        "       'Tot_charg', 'Tot_cost', 'ratio_of_total_costs_to_total_charges','Payment_Typology',\n",
        "       'Result']]"
      ],
      "execution_count": 7,
      "outputs": []
    },
    {
      "cell_type": "code",
      "metadata": {
        "colab": {
          "base_uri": "https://localhost:8080/"
        },
        "id": "Ua7x3XzIox2p",
        "outputId": "6560af62-9b80-477e-f34f-c6f5b2659f08"
      },
      "source": [
        "insurance_data.info()"
      ],
      "execution_count": 18,
      "outputs": [
        {
          "output_type": "stream",
          "text": [
            "<class 'pandas.core.frame.DataFrame'>\n",
            "RangeIndex: 1041265 entries, 0 to 1041264\n",
            "Data columns (total 24 columns):\n",
            " #   Column                                 Non-Null Count    Dtype  \n",
            "---  ------                                 --------------    -----  \n",
            " 0   Area_Service                           1041265 non-null  object \n",
            " 1   Hospital County                        1041265 non-null  object \n",
            " 2   Hospital Id                            1041265 non-null  float64\n",
            " 3   Age                                    1041265 non-null  object \n",
            " 4   Gender                                 1041265 non-null  object \n",
            " 5   Cultural_group                         1041265 non-null  object \n",
            " 6   ethnicity                              1041265 non-null  object \n",
            " 7   Days_spend_hsptl                       1041265 non-null  object \n",
            " 8   Admission_type                         1041265 non-null  object \n",
            " 9   Home or self care,                     1041265 non-null  object \n",
            " 10  ccs_diagnosis_code                     1041265 non-null  int64  \n",
            " 11  ccs_procedure_code                     1041265 non-null  int64  \n",
            " 12  apr_drg_description                    1041265 non-null  object \n",
            " 13  Code_illness                           1041265 non-null  int64  \n",
            " 14  Mortality risk                         1041265 non-null  float64\n",
            " 15  Surg_Description                       1041265 non-null  object \n",
            " 16  Weight_baby                            1041265 non-null  int64  \n",
            " 17  Abortion                               1041265 non-null  object \n",
            " 18  Emergency dept_yes/No                  1041265 non-null  object \n",
            " 19  Tot_charg                              1041265 non-null  float64\n",
            " 20  Tot_cost                               1041265 non-null  float64\n",
            " 21  ratio_of_total_costs_to_total_charges  1041265 non-null  float64\n",
            " 22  Payment_Typology                       1041265 non-null  int64  \n",
            " 23  Result                                 1041265 non-null  int64  \n",
            "dtypes: float64(5), int64(6), object(13)\n",
            "memory usage: 190.7+ MB\n"
          ],
          "name": "stdout"
        }
      ]
    },
    {
      "cell_type": "code",
      "metadata": {
        "id": "0tRSxX_0pywt"
      },
      "source": [
        "cols = ['Area_Service', 'Hospital County',  'Age', 'Gender',\n",
        "       'Cultural_group', 'ethnicity', 'Days_spend_hsptl', 'Admission_type',\n",
        "       'Home or self care,', 'ccs_diagnosis_code', 'ccs_procedure_code',\n",
        "       'apr_drg_description', 'Code_illness',\n",
        "       'Surg_Description', 'Weight_baby', 'Abortion', 'Emergency dept_yes/No',\n",
        "       'Payment_Typology',\n",
        "       'Result']\n",
        "insurance_data[cols] = insurance_data[cols].apply(LabelEncoder().fit_transform)"
      ],
      "execution_count": 8,
      "outputs": []
    },
    {
      "cell_type": "code",
      "metadata": {
        "colab": {
          "base_uri": "https://localhost:8080/"
        },
        "id": "4_oxLEiKqi-m",
        "outputId": "7cc72c65-5387-4e8a-a130-7b27f0b00b2c"
      },
      "source": [
        "insurance_data.info()"
      ],
      "execution_count": 9,
      "outputs": [
        {
          "output_type": "stream",
          "text": [
            "<class 'pandas.core.frame.DataFrame'>\n",
            "RangeIndex: 1041265 entries, 0 to 1041264\n",
            "Data columns (total 24 columns):\n",
            " #   Column                                 Non-Null Count    Dtype  \n",
            "---  ------                                 --------------    -----  \n",
            " 0   Area_Service                           1041265 non-null  int64  \n",
            " 1   Hospital County                        1041265 non-null  int64  \n",
            " 2   Hospital Id                            1041265 non-null  float64\n",
            " 3   Age                                    1041265 non-null  int64  \n",
            " 4   Gender                                 1041265 non-null  int64  \n",
            " 5   Cultural_group                         1041265 non-null  int64  \n",
            " 6   ethnicity                              1041265 non-null  int64  \n",
            " 7   Days_spend_hsptl                       1041265 non-null  int64  \n",
            " 8   Admission_type                         1041265 non-null  int64  \n",
            " 9   Home or self care,                     1041265 non-null  int64  \n",
            " 10  ccs_diagnosis_code                     1041265 non-null  int64  \n",
            " 11  ccs_procedure_code                     1041265 non-null  int64  \n",
            " 12  apr_drg_description                    1041265 non-null  int64  \n",
            " 13  Code_illness                           1041265 non-null  int64  \n",
            " 14  Mortality risk                         1041265 non-null  float64\n",
            " 15  Surg_Description                       1041265 non-null  int64  \n",
            " 16  Weight_baby                            1041265 non-null  int64  \n",
            " 17  Abortion                               1041265 non-null  int64  \n",
            " 18  Emergency dept_yes/No                  1041265 non-null  int64  \n",
            " 19  Tot_charg                              1041265 non-null  float64\n",
            " 20  Tot_cost                               1041265 non-null  float64\n",
            " 21  ratio_of_total_costs_to_total_charges  1041265 non-null  float64\n",
            " 22  Payment_Typology                       1041265 non-null  int64  \n",
            " 23  Result                                 1041265 non-null  int64  \n",
            "dtypes: float64(5), int64(19)\n",
            "memory usage: 190.7 MB\n"
          ],
          "name": "stdout"
        }
      ]
    },
    {
      "cell_type": "code",
      "metadata": {
        "id": "Y5q-J0tYoxZp"
      },
      "source": [
        "Features = insurance_data.drop(columns='Result', axis=1)\n",
        "Target = insurance_data['Result']"
      ],
      "execution_count": 10,
      "outputs": []
    },
    {
      "cell_type": "code",
      "metadata": {
        "id": "EKH5xxe1pVqH"
      },
      "source": [
        "#Apply SelectKBest class to extract top 15 best features\n",
        "bestfeatures = SelectKBest(score_func=chi2, k=15)\n",
        "fit = bestfeatures.fit(Features,Target)"
      ],
      "execution_count": 11,
      "outputs": []
    },
    {
      "cell_type": "code",
      "metadata": {
        "id": "Pag2ZdG2qwRI"
      },
      "source": [
        "dfscores = pd.DataFrame(fit.scores_)\n",
        "dfcolumns = pd.DataFrame(Features.columns)\n",
        "featureScores = pd.concat([dfcolumns,dfscores],axis=1)\n",
        "featureScores.columns = ['Specs','Score']"
      ],
      "execution_count": 12,
      "outputs": []
    },
    {
      "cell_type": "code",
      "metadata": {
        "colab": {
          "base_uri": "https://localhost:8080/"
        },
        "id": "qBNyo_r9q9SQ",
        "outputId": "177d9dd2-1ad3-41e9-f2a9-12ab9d7ec3a5"
      },
      "source": [
        "print(featureScores.nlargest(22,'Score'))"
      ],
      "execution_count": 13,
      "outputs": [
        {
          "output_type": "stream",
          "text": [
            "                                    Specs          Score\n",
            "19                              Tot_charg  129002.707318\n",
            "20                               Tot_cost   96964.827951\n",
            "2                             Hospital Id    1328.119854\n",
            "16                            Weight_baby     440.779003\n",
            "1                         Hospital County      18.289304\n",
            "11                     ccs_procedure_code      15.800231\n",
            "12                    apr_drg_description      13.832817\n",
            "7                        Days_spend_hsptl       5.664767\n",
            "14                         Mortality risk       3.570888\n",
            "13                           Code_illness       3.508367\n",
            "15                       Surg_Description       3.323676\n",
            "18                  Emergency dept_yes/No       3.245688\n",
            "8                          Admission_type       3.086264\n",
            "3                                     Age       3.084688\n",
            "6                               ethnicity       2.277035\n",
            "10                     ccs_diagnosis_code       1.358071\n",
            "22                       Payment_Typology       1.205403\n",
            "9                      Home or self care,       0.396762\n",
            "21  ratio_of_total_costs_to_total_charges       0.318430\n",
            "5                          Cultural_group       0.069762\n",
            "4                                  Gender       0.002547\n",
            "0                            Area_Service       0.001324\n"
          ],
          "name": "stdout"
        }
      ]
    },
    {
      "cell_type": "code",
      "metadata": {
        "colab": {
          "base_uri": "https://localhost:8080/"
        },
        "id": "AdO5umZrrxNt",
        "outputId": "c29f4a6a-497c-48fb-8974-64ef844dcf14"
      },
      "source": [
        "model = ExtraTreesClassifier()\n",
        "model.fit(Features,Target)"
      ],
      "execution_count": 25,
      "outputs": [
        {
          "output_type": "execute_result",
          "data": {
            "text/plain": [
              "ExtraTreesClassifier(bootstrap=False, ccp_alpha=0.0, class_weight=None,\n",
              "                     criterion='gini', max_depth=None, max_features='auto',\n",
              "                     max_leaf_nodes=None, max_samples=None,\n",
              "                     min_impurity_decrease=0.0, min_impurity_split=None,\n",
              "                     min_samples_leaf=1, min_samples_split=2,\n",
              "                     min_weight_fraction_leaf=0.0, n_estimators=100,\n",
              "                     n_jobs=None, oob_score=False, random_state=None, verbose=0,\n",
              "                     warm_start=False)"
            ]
          },
          "metadata": {
            "tags": []
          },
          "execution_count": 25
        }
      ]
    },
    {
      "cell_type": "code",
      "metadata": {
        "colab": {
          "base_uri": "https://localhost:8080/",
          "height": 265
        },
        "id": "EXaSbZGLs6Bc",
        "outputId": "5f4186ee-3ad6-410c-b32a-69eff91e5331"
      },
      "source": [
        "feat_importances = pd.Series(model.feature_importances_, index=Features.columns)\n",
        "feat_importances.nlargest(22).plot(kind='barh')\n",
        "plt.show()"
      ],
      "execution_count": 26,
      "outputs": [
        {
          "output_type": "display_data",
          "data": {
            "image/png": "[encoded data removed]",
            "text/plain": [
              "<Figure size 432x288 with 1 Axes>"
            ]
          },
          "metadata": {
            "tags": [],
            "needs_background": "light"
          }
        }
      ]
    },
    {
      "cell_type": "code",
      "metadata": {
        "id": "6uEiYkiVXbFu"
      },
      "source": [
        "correlation = insurance_data.corr()"
      ],
      "execution_count": 27,
      "outputs": []
    },
    {
      "cell_type": "code",
      "metadata": {
        "colab": {
          "base_uri": "https://localhost:8080/",
          "height": 739
        },
        "id": "FKl91anLXhbW",
        "outputId": "0c332879-ac85-4fe5-ab1d-7b13542a9bac"
      },
      "source": [
        "plt.figure(figsize=(10,10))\n",
        "sns.heatmap(correlation, cbar=True, square=True, fmt = '.1f', annot = True, annot_kws={'size':8}, cmap = 'Blues')"
      ],
      "execution_count": 28,
      "outputs": [
        {
          "output_type": "execute_result",
          "data": {
            "text/plain": [
              "<matplotlib.axes._subplots.AxesSubplot at 0x7f3ed3f75490>"
            ]
          },
          "metadata": {
            "tags": []
          },
          "execution_count": 28
        },
        {
          "output_type": "display_data",
          "data": {
            "image/png": "[encoded data removed]",
            "text/plain": [
              "<Figure size 720x720 with 2 Axes>"
            ]
          },
          "metadata": {
            "tags": [],
            "needs_background": "light"
          }
        }
      ]
    },
    {
      "cell_type": "markdown",
      "metadata": {
        "id": "v1prSSIetOWh"
      },
      "source": [
        "So Comparing these methods\n",
        "We can drop the following\n",
        "-\n",
        "\n",
        "1.   Abortion\n",
        "2.   Hospital_ID\n",
        "3.   Hospital County \n",
        "4.   Area Service\n",
        "5.   Cultural Group\n",
        "6.   Ethnicity\n",
        "7.   apr_drug_description\n",
        "8.   Weight_baby\n",
        "\n"
      ]
    },
    {
      "cell_type": "code",
      "metadata": {
        "id": "NLVQ80VPvV4J"
      },
      "source": [
        "insurance_data.drop(['Area_Service','Hospital County','Hospital Id','Cultural_group',\"ethnicity\",\"apr_drg_description\",\"Weight_baby\",'Abortion'], axis=1, inplace=True)"
      ],
      "execution_count": 14,
      "outputs": []
    },
    {
      "cell_type": "code",
      "metadata": {
        "colab": {
          "base_uri": "https://localhost:8080/"
        },
        "id": "RBJk2rxlx1a_",
        "outputId": "0dd145d5-1f3a-4769-a9ff-3d2b73aed019"
      },
      "source": [
        "insurance_data.info()"
      ],
      "execution_count": 15,
      "outputs": [
        {
          "output_type": "stream",
          "text": [
            "<class 'pandas.core.frame.DataFrame'>\n",
            "RangeIndex: 1041265 entries, 0 to 1041264\n",
            "Data columns (total 16 columns):\n",
            " #   Column                                 Non-Null Count    Dtype  \n",
            "---  ------                                 --------------    -----  \n",
            " 0   Age                                    1041265 non-null  int64  \n",
            " 1   Gender                                 1041265 non-null  int64  \n",
            " 2   Days_spend_hsptl                       1041265 non-null  int64  \n",
            " 3   Admission_type                         1041265 non-null  int64  \n",
            " 4   Home or self care,                     1041265 non-null  int64  \n",
            " 5   ccs_diagnosis_code                     1041265 non-null  int64  \n",
            " 6   ccs_procedure_code                     1041265 non-null  int64  \n",
            " 7   Code_illness                           1041265 non-null  int64  \n",
            " 8   Mortality risk                         1041265 non-null  float64\n",
            " 9   Surg_Description                       1041265 non-null  int64  \n",
            " 10  Emergency dept_yes/No                  1041265 non-null  int64  \n",
            " 11  Tot_charg                              1041265 non-null  float64\n",
            " 12  Tot_cost                               1041265 non-null  float64\n",
            " 13  ratio_of_total_costs_to_total_charges  1041265 non-null  float64\n",
            " 14  Payment_Typology                       1041265 non-null  int64  \n",
            " 15  Result                                 1041265 non-null  int64  \n",
            "dtypes: float64(4), int64(12)\n",
            "memory usage: 127.1 MB\n"
          ],
          "name": "stdout"
        }
      ]
    },
    {
      "cell_type": "code",
      "metadata": {
        "colab": {
          "base_uri": "https://localhost:8080/"
        },
        "id": "YRJ-LEP7yCuL",
        "outputId": "addebea8-7abe-42ec-ead4-2fc1aeb609c8"
      },
      "source": [
        "insurance_data['Result'].value_counts()"
      ],
      "execution_count": 16,
      "outputs": [
        {
          "output_type": "execute_result",
          "data": {
            "text/plain": [
              "1    780361\n",
              "0    260904\n",
              "Name: Result, dtype: int64"
            ]
          },
          "metadata": {
            "tags": []
          },
          "execution_count": 16
        }
      ]
    },
    {
      "cell_type": "code",
      "metadata": {
        "colab": {
          "base_uri": "https://localhost:8080/"
        },
        "id": "XYn5IzIWYI2E",
        "outputId": "6f6d412e-d1ea-4ed5-a752-d9433f23fde1"
      },
      "source": [
        "insurance_data['Age'].value_counts()"
      ],
      "execution_count": 32,
      "outputs": [
        {
          "output_type": "execute_result",
          "data": {
            "text/plain": [
              "4    305802\n",
              "3    281714\n",
              "2    197730\n",
              "0    140040\n",
              "1    115979\n",
              "Name: Age, dtype: int64"
            ]
          },
          "metadata": {
            "tags": []
          },
          "execution_count": 32
        }
      ]
    },
    {
      "cell_type": "code",
      "metadata": {
        "colab": {
          "base_uri": "https://localhost:8080/"
        },
        "id": "sGlMqXQrz7Pr",
        "outputId": "57b913ab-fa16-4c37-cc80-611bb05a1ce7"
      },
      "source": [
        "insurance_data['Admission_type'].value_counts()"
      ],
      "execution_count": 33,
      "outputs": [
        {
          "output_type": "execute_result",
          "data": {
            "text/plain": [
              "1    606383\n",
              "0    235122\n",
              "5    109946\n",
              "2     86542\n",
              "4      2256\n",
              "3      1016\n",
              "Name: Admission_type, dtype: int64"
            ]
          },
          "metadata": {
            "tags": []
          },
          "execution_count": 33
        }
      ]
    },
    {
      "cell_type": "code",
      "metadata": {
        "colab": {
          "base_uri": "https://localhost:8080/"
        },
        "id": "VP0IqvFy0SYb",
        "outputId": "7e3cb8ea-dcac-4cd7-f96c-d7df4f5c69bb"
      },
      "source": [
        "insurance_data['Home or self care,'].value_counts()"
      ],
      "execution_count": 34,
      "outputs": [
        {
          "output_type": "execute_result",
          "data": {
            "text/plain": [
              "7     688168\n",
              "8     131885\n",
              "18    108858\n",
              "4      22781\n",
              "17     21414\n",
              "12     17349\n",
              "13     16965\n",
              "16      6687\n",
              "11      4781\n",
              "10      4733\n",
              "0       4533\n",
              "5       3480\n",
              "2       3256\n",
              "15      2127\n",
              "1       1880\n",
              "9       1874\n",
              "6        455\n",
              "3         32\n",
              "14         7\n",
              "Name: Home or self care,, dtype: int64"
            ]
          },
          "metadata": {
            "tags": []
          },
          "execution_count": 34
        }
      ]
    },
    {
      "cell_type": "code",
      "metadata": {
        "colab": {
          "base_uri": "https://localhost:8080/"
        },
        "id": "o49qe1Lt4CoE",
        "outputId": "eb7f192b-d922-47fb-836c-14eea9577b25"
      },
      "source": [
        "Q1 = insurance_data.quantile(0.25)\n",
        "Q3 = insurance_data.quantile(0.75)\n",
        "IQR = Q3 - Q1\n",
        "print(IQR)"
      ],
      "execution_count": 35,
      "outputs": [
        {
          "output_type": "stream",
          "text": [
            "Age                                          2.000000\n",
            "Gender                                       1.000000\n",
            "Days_spend_hsptl                            22.000000\n",
            "Admission_type                               0.000000\n",
            "Home or self care,                           1.000000\n",
            "ccs_diagnosis_code                         105.000000\n",
            "ccs_procedure_code                         170.000000\n",
            "Code_illness                                 2.000000\n",
            "Mortality risk                               2.000000\n",
            "Surg_Description                             0.000000\n",
            "Emergency dept_yes/No                        1.000000\n",
            "Tot_charg                                21799.970000\n",
            "Tot_cost                                  8125.220000\n",
            "ratio_of_total_costs_to_total_charges        0.205348\n",
            "Payment_Typology                             2.000000\n",
            "Result                                       1.000000\n",
            "dtype: float64\n"
          ],
          "name": "stdout"
        }
      ]
    },
    {
      "cell_type": "code",
      "metadata": {
        "colab": {
          "base_uri": "https://localhost:8080/"
        },
        "id": "ee9LjhRX4fUc",
        "outputId": "4d9c2dc1-723e-4319-e8aa-de665e78411b"
      },
      "source": [
        "df_out = insurance_data[~((insurance_data < (Q1 - 1.5 * IQR)) |(insurance_data > (Q3 + 1.5 * IQR))).any(axis=1)]\n",
        "print(df_out.shape)"
      ],
      "execution_count": 36,
      "outputs": [
        {
          "output_type": "stream",
          "text": [
            "(330384, 16)\n"
          ],
          "name": "stdout"
        }
      ]
    },
    {
      "cell_type": "code",
      "metadata": {
        "id": "PhWgqWrM-uqi"
      },
      "source": [
        "x = insurance_data.drop(columns='Result', axis=1)\n",
        "y = insurance_data['Result']"
      ],
      "execution_count": 17,
      "outputs": []
    },
    {
      "cell_type": "code",
      "metadata": {
        "colab": {
          "base_uri": "https://localhost:8080/",
          "height": 487
        },
        "id": "X-CovWCL-lFL",
        "outputId": "96d9a871-74cb-4098-f01f-0bad0b0f81f2"
      },
      "source": [
        "clf = IsolationForest(random_state=42,contamination=0.1)\n",
        "clf.fit(x,y)\n",
        "y_outliers = clf.predict(x)\n",
        "insurance_data['y_outliers'] = y_outliers\n",
        "insurance_data[insurance_data['y_outliers']==-1]"
      ],
      "execution_count": 18,
      "outputs": [
        {
          "output_type": "execute_result",
          "data": {
            "text/html": [
              "<div>\n",
              "<style scoped>\n",
              "    .dataframe tbody tr th:only-of-type {\n",
              "        vertical-align: middle;\n",
              "    }\n",
              "\n",
              "    .dataframe tbody tr th {\n",
              "        vertical-align: top;\n",
              "    }\n",
              "\n",
              "    .dataframe thead th {\n",
              "        text-align: right;\n",
              "    }\n",
              "</style>\n",
              "<table border=\"1\" class=\"dataframe\">\n",
              "  <thead>\n",
              "    <tr style=\"text-align: right;\">\n",
              "      <th></th>\n",
              "      <th>Age</th>\n",
              "      <th>Gender</th>\n",
              "      <th>Days_spend_hsptl</th>\n",
              "      <th>Admission_type</th>\n",
              "      <th>Home or self care,</th>\n",
              "      <th>ccs_diagnosis_code</th>\n",
              "      <th>ccs_procedure_code</th>\n",
              "      <th>Code_illness</th>\n",
              "      <th>Mortality risk</th>\n",
              "      <th>Surg_Description</th>\n",
              "      <th>Emergency dept_yes/No</th>\n",
              "      <th>Tot_charg</th>\n",
              "      <th>Tot_cost</th>\n",
              "      <th>ratio_of_total_costs_to_total_charges</th>\n",
              "      <th>Payment_Typology</th>\n",
              "      <th>Result</th>\n",
              "      <th>y_outliers</th>\n",
              "    </tr>\n",
              "  </thead>\n",
              "  <tbody>\n",
              "    <tr>\n",
              "      <th>1</th>\n",
              "      <td>4</td>\n",
              "      <td>0</td>\n",
              "      <td>54</td>\n",
              "      <td>5</td>\n",
              "      <td>17</td>\n",
              "      <td>180</td>\n",
              "      <td>0</td>\n",
              "      <td>2</td>\n",
              "      <td>2.0</td>\n",
              "      <td>0</td>\n",
              "      <td>1</td>\n",
              "      <td>4783.20</td>\n",
              "      <td>5162.82</td>\n",
              "      <td>1.079365</td>\n",
              "      <td>0</td>\n",
              "      <td>1</td>\n",
              "      <td>-1</td>\n",
              "    </tr>\n",
              "    <tr>\n",
              "      <th>3</th>\n",
              "      <td>0</td>\n",
              "      <td>0</td>\n",
              "      <td>0</td>\n",
              "      <td>5</td>\n",
              "      <td>7</td>\n",
              "      <td>110</td>\n",
              "      <td>0</td>\n",
              "      <td>0</td>\n",
              "      <td>1.0</td>\n",
              "      <td>0</td>\n",
              "      <td>1</td>\n",
              "      <td>1108.20</td>\n",
              "      <td>1644.75</td>\n",
              "      <td>1.484167</td>\n",
              "      <td>0</td>\n",
              "      <td>0</td>\n",
              "      <td>-1</td>\n",
              "    </tr>\n",
              "    <tr>\n",
              "      <th>20</th>\n",
              "      <td>0</td>\n",
              "      <td>1</td>\n",
              "      <td>0</td>\n",
              "      <td>5</td>\n",
              "      <td>7</td>\n",
              "      <td>110</td>\n",
              "      <td>0</td>\n",
              "      <td>0</td>\n",
              "      <td>1.0</td>\n",
              "      <td>0</td>\n",
              "      <td>1</td>\n",
              "      <td>1301.70</td>\n",
              "      <td>1729.54</td>\n",
              "      <td>1.328677</td>\n",
              "      <td>0</td>\n",
              "      <td>0</td>\n",
              "      <td>-1</td>\n",
              "    </tr>\n",
              "    <tr>\n",
              "      <th>27</th>\n",
              "      <td>2</td>\n",
              "      <td>0</td>\n",
              "      <td>0</td>\n",
              "      <td>0</td>\n",
              "      <td>17</td>\n",
              "      <td>227</td>\n",
              "      <td>0</td>\n",
              "      <td>0</td>\n",
              "      <td>1.0</td>\n",
              "      <td>0</td>\n",
              "      <td>1</td>\n",
              "      <td>1493.39</td>\n",
              "      <td>2010.51</td>\n",
              "      <td>1.346271</td>\n",
              "      <td>0</td>\n",
              "      <td>1</td>\n",
              "      <td>-1</td>\n",
              "    </tr>\n",
              "    <tr>\n",
              "      <th>40</th>\n",
              "      <td>4</td>\n",
              "      <td>0</td>\n",
              "      <td>0</td>\n",
              "      <td>0</td>\n",
              "      <td>17</td>\n",
              "      <td>140</td>\n",
              "      <td>0</td>\n",
              "      <td>2</td>\n",
              "      <td>4.0</td>\n",
              "      <td>0</td>\n",
              "      <td>1</td>\n",
              "      <td>2534.19</td>\n",
              "      <td>3421.83</td>\n",
              "      <td>1.350267</td>\n",
              "      <td>1</td>\n",
              "      <td>0</td>\n",
              "      <td>-1</td>\n",
              "    </tr>\n",
              "    <tr>\n",
              "      <th>...</th>\n",
              "      <td>...</td>\n",
              "      <td>...</td>\n",
              "      <td>...</td>\n",
              "      <td>...</td>\n",
              "      <td>...</td>\n",
              "      <td>...</td>\n",
              "      <td>...</td>\n",
              "      <td>...</td>\n",
              "      <td>...</td>\n",
              "      <td>...</td>\n",
              "      <td>...</td>\n",
              "      <td>...</td>\n",
              "      <td>...</td>\n",
              "      <td>...</td>\n",
              "      <td>...</td>\n",
              "      <td>...</td>\n",
              "      <td>...</td>\n",
              "    </tr>\n",
              "    <tr>\n",
              "      <th>1041236</th>\n",
              "      <td>2</td>\n",
              "      <td>0</td>\n",
              "      <td>31</td>\n",
              "      <td>1</td>\n",
              "      <td>8</td>\n",
              "      <td>104</td>\n",
              "      <td>74</td>\n",
              "      <td>3</td>\n",
              "      <td>4.0</td>\n",
              "      <td>1</td>\n",
              "      <td>0</td>\n",
              "      <td>361193.61</td>\n",
              "      <td>77497.73</td>\n",
              "      <td>0.214560</td>\n",
              "      <td>2</td>\n",
              "      <td>1</td>\n",
              "      <td>-1</td>\n",
              "    </tr>\n",
              "    <tr>\n",
              "      <th>1041239</th>\n",
              "      <td>3</td>\n",
              "      <td>1</td>\n",
              "      <td>28</td>\n",
              "      <td>1</td>\n",
              "      <td>4</td>\n",
              "      <td>138</td>\n",
              "      <td>213</td>\n",
              "      <td>3</td>\n",
              "      <td>4.0</td>\n",
              "      <td>0</td>\n",
              "      <td>1</td>\n",
              "      <td>134722.94</td>\n",
              "      <td>28085.03</td>\n",
              "      <td>0.208465</td>\n",
              "      <td>2</td>\n",
              "      <td>0</td>\n",
              "      <td>-1</td>\n",
              "    </tr>\n",
              "    <tr>\n",
              "      <th>1041249</th>\n",
              "      <td>3</td>\n",
              "      <td>0</td>\n",
              "      <td>27</td>\n",
              "      <td>1</td>\n",
              "      <td>18</td>\n",
              "      <td>220</td>\n",
              "      <td>5</td>\n",
              "      <td>0</td>\n",
              "      <td>1.0</td>\n",
              "      <td>1</td>\n",
              "      <td>0</td>\n",
              "      <td>120200.08</td>\n",
              "      <td>27983.66</td>\n",
              "      <td>0.232809</td>\n",
              "      <td>2</td>\n",
              "      <td>1</td>\n",
              "      <td>-1</td>\n",
              "    </tr>\n",
              "    <tr>\n",
              "      <th>1041251</th>\n",
              "      <td>3</td>\n",
              "      <td>1</td>\n",
              "      <td>54</td>\n",
              "      <td>1</td>\n",
              "      <td>18</td>\n",
              "      <td>49</td>\n",
              "      <td>154</td>\n",
              "      <td>1</td>\n",
              "      <td>3.0</td>\n",
              "      <td>1</td>\n",
              "      <td>1</td>\n",
              "      <td>43148.91</td>\n",
              "      <td>10528.01</td>\n",
              "      <td>0.243992</td>\n",
              "      <td>2</td>\n",
              "      <td>1</td>\n",
              "      <td>-1</td>\n",
              "    </tr>\n",
              "    <tr>\n",
              "      <th>1041259</th>\n",
              "      <td>4</td>\n",
              "      <td>1</td>\n",
              "      <td>42</td>\n",
              "      <td>1</td>\n",
              "      <td>18</td>\n",
              "      <td>106</td>\n",
              "      <td>60</td>\n",
              "      <td>3</td>\n",
              "      <td>4.0</td>\n",
              "      <td>0</td>\n",
              "      <td>1</td>\n",
              "      <td>322219.69</td>\n",
              "      <td>66534.62</td>\n",
              "      <td>0.206488</td>\n",
              "      <td>2</td>\n",
              "      <td>1</td>\n",
              "      <td>-1</td>\n",
              "    </tr>\n",
              "  </tbody>\n",
              "</table>\n",
              "<p>104127 rows × 17 columns</p>\n",
              "</div>"
            ],
            "text/plain": [
              "         Age  Gender  Days_spend_hsptl  ...  Payment_Typology  Result  y_outliers\n",
              "1          4       0                54  ...                 0       1          -1\n",
              "3          0       0                 0  ...                 0       0          -1\n",
              "20         0       1                 0  ...                 0       0          -1\n",
              "27         2       0                 0  ...                 0       1          -1\n",
              "40         4       0                 0  ...                 1       0          -1\n",
              "...      ...     ...               ...  ...               ...     ...         ...\n",
              "1041236    2       0                31  ...                 2       1          -1\n",
              "1041239    3       1                28  ...                 2       0          -1\n",
              "1041249    3       0                27  ...                 2       1          -1\n",
              "1041251    3       1                54  ...                 2       1          -1\n",
              "1041259    4       1                42  ...                 2       1          -1\n",
              "\n",
              "[104127 rows x 17 columns]"
            ]
          },
          "metadata": {
            "tags": []
          },
          "execution_count": 18
        }
      ]
    },
    {
      "cell_type": "code",
      "metadata": {
        "colab": {
          "base_uri": "https://localhost:8080/"
        },
        "id": "zTQBVP7f_Wtu",
        "outputId": "6e613f63-03c2-4908-ebff-301d4bc95c9a"
      },
      "source": [
        "insurance_data['y_outliers'].value_counts()"
      ],
      "execution_count": 19,
      "outputs": [
        {
          "output_type": "execute_result",
          "data": {
            "text/plain": [
              " 1    937138\n",
              "-1    104127\n",
              "Name: y_outliers, dtype: int64"
            ]
          },
          "metadata": {
            "tags": []
          },
          "execution_count": 19
        }
      ]
    },
    {
      "cell_type": "code",
      "metadata": {
        "id": "bzQTjpVvbvZv"
      },
      "source": [
        "insurance_data.drop(insurance_data[insurance_data['y_outliers'] == -1].index, inplace = True)"
      ],
      "execution_count": 20,
      "outputs": []
    },
    {
      "cell_type": "code",
      "metadata": {
        "id": "56qvFqXFZjIe"
      },
      "source": [
        "insurance_data = insurance_data.drop(columns=['y_outliers'])"
      ],
      "execution_count": 21,
      "outputs": []
    },
    {
      "cell_type": "code",
      "metadata": {
        "id": "w-4-wDEMZrrr"
      },
      "source": [
        "x = insurance_data.drop(columns='Result', axis=1)\n",
        "y = insurance_data['Result']"
      ],
      "execution_count": 22,
      "outputs": []
    },
    {
      "cell_type": "code",
      "metadata": {
        "colab": {
          "base_uri": "https://localhost:8080/"
        },
        "id": "syjxSGHmZxU0",
        "outputId": "8d570a3e-f2a9-4dfb-9de7-9cb2679e5d3f"
      },
      "source": [
        "insurance_data['Result'].value_counts()"
      ],
      "execution_count": 43,
      "outputs": [
        {
          "output_type": "execute_result",
          "data": {
            "text/plain": [
              "1    702628\n",
              "0    234510\n",
              "Name: Result, dtype: int64"
            ]
          },
          "metadata": {
            "tags": []
          },
          "execution_count": 43
        }
      ]
    },
    {
      "cell_type": "code",
      "metadata": {
        "id": "AiPIIw5YeFZi"
      },
      "source": [
        "sample_insurance_data = insurance_data.sample(frac =0.10)\n"
      ],
      "execution_count": 23,
      "outputs": []
    },
    {
      "cell_type": "code",
      "metadata": {
        "colab": {
          "base_uri": "https://localhost:8080/"
        },
        "id": "GyWxTSpDi8fx",
        "outputId": "9b3853b1-b028-4c52-a7b5-74c50ba10630"
      },
      "source": [
        "sample_insurance_data.shape"
      ],
      "execution_count": 24,
      "outputs": [
        {
          "output_type": "execute_result",
          "data": {
            "text/plain": [
              "(93714, 16)"
            ]
          },
          "metadata": {
            "tags": []
          },
          "execution_count": 24
        }
      ]
    },
    {
      "cell_type": "code",
      "metadata": {
        "colab": {
          "base_uri": "https://localhost:8080/"
        },
        "id": "Hv4Hbr8GjBE9",
        "outputId": "45c1b895-2325-46a0-beaa-3e3fe6a98bed"
      },
      "source": [
        "sample_insurance_data.info()"
      ],
      "execution_count": 46,
      "outputs": [
        {
          "output_type": "stream",
          "text": [
            "<class 'pandas.core.frame.DataFrame'>\n",
            "Int64Index: 93714 entries, 386955 to 650076\n",
            "Data columns (total 16 columns):\n",
            " #   Column                                 Non-Null Count  Dtype  \n",
            "---  ------                                 --------------  -----  \n",
            " 0   Age                                    93714 non-null  int64  \n",
            " 1   Gender                                 93714 non-null  int64  \n",
            " 2   Days_spend_hsptl                       93714 non-null  int64  \n",
            " 3   Admission_type                         93714 non-null  int64  \n",
            " 4   Home or self care,                     93714 non-null  int64  \n",
            " 5   ccs_diagnosis_code                     93714 non-null  int64  \n",
            " 6   ccs_procedure_code                     93714 non-null  int64  \n",
            " 7   Code_illness                           93714 non-null  int64  \n",
            " 8   Mortality risk                         93714 non-null  float64\n",
            " 9   Surg_Description                       93714 non-null  int64  \n",
            " 10  Emergency dept_yes/No                  93714 non-null  int64  \n",
            " 11  Tot_charg                              93714 non-null  float64\n",
            " 12  Tot_cost                               93714 non-null  float64\n",
            " 13  ratio_of_total_costs_to_total_charges  93714 non-null  float64\n",
            " 14  Payment_Typology                       93714 non-null  int64  \n",
            " 15  Result                                 93714 non-null  int64  \n",
            "dtypes: float64(4), int64(12)\n",
            "memory usage: 12.2 MB\n"
          ],
          "name": "stdout"
        }
      ]
    },
    {
      "cell_type": "code",
      "metadata": {
        "colab": {
          "base_uri": "https://localhost:8080/",
          "height": 487
        },
        "id": "V0gSVBjDjG9s",
        "outputId": "061615ed-c31b-4aad-bfdf-35d81945fb49"
      },
      "source": [
        "sample_insurance_data"
      ],
      "execution_count": 47,
      "outputs": [
        {
          "output_type": "execute_result",
          "data": {
            "text/html": [
              "<div>\n",
              "<style scoped>\n",
              "    .dataframe tbody tr th:only-of-type {\n",
              "        vertical-align: middle;\n",
              "    }\n",
              "\n",
              "    .dataframe tbody tr th {\n",
              "        vertical-align: top;\n",
              "    }\n",
              "\n",
              "    .dataframe thead th {\n",
              "        text-align: right;\n",
              "    }\n",
              "</style>\n",
              "<table border=\"1\" class=\"dataframe\">\n",
              "  <thead>\n",
              "    <tr style=\"text-align: right;\">\n",
              "      <th></th>\n",
              "      <th>Age</th>\n",
              "      <th>Gender</th>\n",
              "      <th>Days_spend_hsptl</th>\n",
              "      <th>Admission_type</th>\n",
              "      <th>Home or self care,</th>\n",
              "      <th>ccs_diagnosis_code</th>\n",
              "      <th>ccs_procedure_code</th>\n",
              "      <th>Code_illness</th>\n",
              "      <th>Mortality risk</th>\n",
              "      <th>Surg_Description</th>\n",
              "      <th>Emergency dept_yes/No</th>\n",
              "      <th>Tot_charg</th>\n",
              "      <th>Tot_cost</th>\n",
              "      <th>ratio_of_total_costs_to_total_charges</th>\n",
              "      <th>Payment_Typology</th>\n",
              "      <th>Result</th>\n",
              "    </tr>\n",
              "  </thead>\n",
              "  <tbody>\n",
              "    <tr>\n",
              "      <th>386955</th>\n",
              "      <td>4</td>\n",
              "      <td>0</td>\n",
              "      <td>54</td>\n",
              "      <td>1</td>\n",
              "      <td>7</td>\n",
              "      <td>123</td>\n",
              "      <td>0</td>\n",
              "      <td>0</td>\n",
              "      <td>1.0</td>\n",
              "      <td>0</td>\n",
              "      <td>1</td>\n",
              "      <td>15285.49</td>\n",
              "      <td>4687.35</td>\n",
              "      <td>0.306653</td>\n",
              "      <td>1</td>\n",
              "      <td>1</td>\n",
              "    </tr>\n",
              "    <tr>\n",
              "      <th>178858</th>\n",
              "      <td>2</td>\n",
              "      <td>0</td>\n",
              "      <td>0</td>\n",
              "      <td>1</td>\n",
              "      <td>7</td>\n",
              "      <td>58</td>\n",
              "      <td>219</td>\n",
              "      <td>0</td>\n",
              "      <td>1.0</td>\n",
              "      <td>0</td>\n",
              "      <td>1</td>\n",
              "      <td>5840.01</td>\n",
              "      <td>2532.42</td>\n",
              "      <td>0.433632</td>\n",
              "      <td>1</td>\n",
              "      <td>1</td>\n",
              "    </tr>\n",
              "    <tr>\n",
              "      <th>19399</th>\n",
              "      <td>3</td>\n",
              "      <td>1</td>\n",
              "      <td>54</td>\n",
              "      <td>1</td>\n",
              "      <td>7</td>\n",
              "      <td>96</td>\n",
              "      <td>0</td>\n",
              "      <td>1</td>\n",
              "      <td>3.0</td>\n",
              "      <td>0</td>\n",
              "      <td>1</td>\n",
              "      <td>8252.05</td>\n",
              "      <td>6868.08</td>\n",
              "      <td>0.832287</td>\n",
              "      <td>1</td>\n",
              "      <td>1</td>\n",
              "    </tr>\n",
              "    <tr>\n",
              "      <th>146359</th>\n",
              "      <td>2</td>\n",
              "      <td>1</td>\n",
              "      <td>54</td>\n",
              "      <td>1</td>\n",
              "      <td>7</td>\n",
              "      <td>243</td>\n",
              "      <td>0</td>\n",
              "      <td>0</td>\n",
              "      <td>1.0</td>\n",
              "      <td>0</td>\n",
              "      <td>1</td>\n",
              "      <td>5651.27</td>\n",
              "      <td>2478.74</td>\n",
              "      <td>0.438616</td>\n",
              "      <td>0</td>\n",
              "      <td>0</td>\n",
              "    </tr>\n",
              "    <tr>\n",
              "      <th>290743</th>\n",
              "      <td>1</td>\n",
              "      <td>0</td>\n",
              "      <td>32</td>\n",
              "      <td>0</td>\n",
              "      <td>7</td>\n",
              "      <td>164</td>\n",
              "      <td>134</td>\n",
              "      <td>1</td>\n",
              "      <td>1.0</td>\n",
              "      <td>0</td>\n",
              "      <td>0</td>\n",
              "      <td>5319.78</td>\n",
              "      <td>3275.75</td>\n",
              "      <td>0.615767</td>\n",
              "      <td>0</td>\n",
              "      <td>1</td>\n",
              "    </tr>\n",
              "    <tr>\n",
              "      <th>...</th>\n",
              "      <td>...</td>\n",
              "      <td>...</td>\n",
              "      <td>...</td>\n",
              "      <td>...</td>\n",
              "      <td>...</td>\n",
              "      <td>...</td>\n",
              "      <td>...</td>\n",
              "      <td>...</td>\n",
              "      <td>...</td>\n",
              "      <td>...</td>\n",
              "      <td>...</td>\n",
              "      <td>...</td>\n",
              "      <td>...</td>\n",
              "      <td>...</td>\n",
              "      <td>...</td>\n",
              "      <td>...</td>\n",
              "    </tr>\n",
              "    <tr>\n",
              "      <th>420754</th>\n",
              "      <td>1</td>\n",
              "      <td>0</td>\n",
              "      <td>43</td>\n",
              "      <td>0</td>\n",
              "      <td>7</td>\n",
              "      <td>167</td>\n",
              "      <td>131</td>\n",
              "      <td>1</td>\n",
              "      <td>1.0</td>\n",
              "      <td>1</td>\n",
              "      <td>0</td>\n",
              "      <td>9208.88</td>\n",
              "      <td>4770.71</td>\n",
              "      <td>0.518056</td>\n",
              "      <td>0</td>\n",
              "      <td>1</td>\n",
              "    </tr>\n",
              "    <tr>\n",
              "      <th>390543</th>\n",
              "      <td>2</td>\n",
              "      <td>0</td>\n",
              "      <td>32</td>\n",
              "      <td>0</td>\n",
              "      <td>7</td>\n",
              "      <td>175</td>\n",
              "      <td>136</td>\n",
              "      <td>0</td>\n",
              "      <td>1.0</td>\n",
              "      <td>0</td>\n",
              "      <td>0</td>\n",
              "      <td>6052.50</td>\n",
              "      <td>6040.97</td>\n",
              "      <td>0.998096</td>\n",
              "      <td>0</td>\n",
              "      <td>1</td>\n",
              "    </tr>\n",
              "    <tr>\n",
              "      <th>235387</th>\n",
              "      <td>4</td>\n",
              "      <td>1</td>\n",
              "      <td>43</td>\n",
              "      <td>1</td>\n",
              "      <td>18</td>\n",
              "      <td>83</td>\n",
              "      <td>0</td>\n",
              "      <td>3</td>\n",
              "      <td>2.0</td>\n",
              "      <td>0</td>\n",
              "      <td>1</td>\n",
              "      <td>12888.86</td>\n",
              "      <td>5728.53</td>\n",
              "      <td>0.444456</td>\n",
              "      <td>0</td>\n",
              "      <td>1</td>\n",
              "    </tr>\n",
              "    <tr>\n",
              "      <th>401609</th>\n",
              "      <td>2</td>\n",
              "      <td>0</td>\n",
              "      <td>32</td>\n",
              "      <td>0</td>\n",
              "      <td>7</td>\n",
              "      <td>179</td>\n",
              "      <td>134</td>\n",
              "      <td>0</td>\n",
              "      <td>1.0</td>\n",
              "      <td>0</td>\n",
              "      <td>0</td>\n",
              "      <td>5186.50</td>\n",
              "      <td>3019.42</td>\n",
              "      <td>0.582169</td>\n",
              "      <td>0</td>\n",
              "      <td>1</td>\n",
              "    </tr>\n",
              "    <tr>\n",
              "      <th>650076</th>\n",
              "      <td>3</td>\n",
              "      <td>0</td>\n",
              "      <td>0</td>\n",
              "      <td>1</td>\n",
              "      <td>7</td>\n",
              "      <td>115</td>\n",
              "      <td>0</td>\n",
              "      <td>0</td>\n",
              "      <td>1.0</td>\n",
              "      <td>0</td>\n",
              "      <td>1</td>\n",
              "      <td>8837.10</td>\n",
              "      <td>2369.54</td>\n",
              "      <td>0.268136</td>\n",
              "      <td>2</td>\n",
              "      <td>1</td>\n",
              "    </tr>\n",
              "  </tbody>\n",
              "</table>\n",
              "<p>93714 rows × 16 columns</p>\n",
              "</div>"
            ],
            "text/plain": [
              "        Age  Gender  ...  Payment_Typology  Result\n",
              "386955    4       0  ...                 1       1\n",
              "178858    2       0  ...                 1       1\n",
              "19399     3       1  ...                 1       1\n",
              "146359    2       1  ...                 0       0\n",
              "290743    1       0  ...                 0       1\n",
              "...     ...     ...  ...               ...     ...\n",
              "420754    1       0  ...                 0       1\n",
              "390543    2       0  ...                 0       1\n",
              "235387    4       1  ...                 0       1\n",
              "401609    2       0  ...                 0       1\n",
              "650076    3       0  ...                 2       1\n",
              "\n",
              "[93714 rows x 16 columns]"
            ]
          },
          "metadata": {
            "tags": []
          },
          "execution_count": 47
        }
      ]
    },
    {
      "cell_type": "code",
      "metadata": {
        "colab": {
          "base_uri": "https://localhost:8080/"
        },
        "id": "zOq2cEfNjSLY",
        "outputId": "13188eeb-7290-4fb0-9472-666fb8e634de"
      },
      "source": [
        "insurance_data['Result'].value_counts()"
      ],
      "execution_count": 48,
      "outputs": [
        {
          "output_type": "execute_result",
          "data": {
            "text/plain": [
              "1    702628\n",
              "0    234510\n",
              "Name: Result, dtype: int64"
            ]
          },
          "metadata": {
            "tags": []
          },
          "execution_count": 48
        }
      ]
    },
    {
      "cell_type": "code",
      "metadata": {
        "colab": {
          "base_uri": "https://localhost:8080/"
        },
        "id": "Rmw_xJK8jfrY",
        "outputId": "d20f956a-e24b-4189-cd61-a078d1359908"
      },
      "source": [
        "sample_insurance_data['Result'].value_counts()"
      ],
      "execution_count": 49,
      "outputs": [
        {
          "output_type": "execute_result",
          "data": {
            "text/plain": [
              "1    70178\n",
              "0    23536\n",
              "Name: Result, dtype: int64"
            ]
          },
          "metadata": {
            "tags": []
          },
          "execution_count": 49
        }
      ]
    },
    {
      "cell_type": "code",
      "metadata": {
        "id": "fvVHtZeHk9Nw"
      },
      "source": [
        "x_sample = sample_insurance_data.drop(columns='Result', axis=1)\n",
        "y_sample = sample_insurance_data['Result']"
      ],
      "execution_count": 25,
      "outputs": []
    },
    {
      "cell_type": "code",
      "metadata": {
        "colab": {
          "base_uri": "https://localhost:8080/"
        },
        "id": "_2PEGd1Gjl8Q",
        "outputId": "ded6f19a-dd82-46df-8ac0-9b30c0d03b2c"
      },
      "source": [
        "smk = SMOTETomek()\n",
        "x_res,y_res=smk.fit_sample(x_sample,y_sample)\n",
        "x_res.shape,y_res.shape"
      ],
      "execution_count": 26,
      "outputs": [
        {
          "output_type": "stream",
          "text": [
            "/usr/local/lib/python3.7/dist-packages/sklearn/utils/deprecation.py:87: FutureWarning: Function safe_indexing is deprecated; safe_indexing is deprecated in version 0.22 and will be removed in version 0.24.\n",
            "  warnings.warn(msg, category=FutureWarning)\n",
            "/usr/local/lib/python3.7/dist-packages/sklearn/utils/deprecation.py:87: FutureWarning: Function safe_indexing is deprecated; safe_indexing is deprecated in version 0.22 and will be removed in version 0.24.\n",
            "  warnings.warn(msg, category=FutureWarning)\n"
          ],
          "name": "stderr"
        },
        {
          "output_type": "execute_result",
          "data": {
            "text/plain": [
              "((130086, 15), (130086,))"
            ]
          },
          "metadata": {
            "tags": []
          },
          "execution_count": 26
        }
      ]
    },
    {
      "cell_type": "code",
      "metadata": {
        "colab": {
          "base_uri": "https://localhost:8080/"
        },
        "id": "oBgmXckFlbxz",
        "outputId": "2f2c377f-d416-4b77-cc86-95294f593a89"
      },
      "source": [
        "print('Original dataset shape {}'.format(Counter(y_sample)))\n",
        "print('Resampled dataset shape {}'.format(Counter(y_res)))"
      ],
      "execution_count": 27,
      "outputs": [
        {
          "output_type": "stream",
          "text": [
            "Original dataset shape Counter({1: 70220, 0: 23494})\n",
            "Resampled dataset shape Counter({1: 65043, 0: 65043})\n"
          ],
          "name": "stdout"
        }
      ]
    },
    {
      "cell_type": "code",
      "metadata": {
        "id": "D6moH6rJnFmP"
      },
      "source": [
        "x_sampled=pd.DataFrame(x_res)\n",
        "y_sampled=pd.DataFrame(y_res)"
      ],
      "execution_count": 28,
      "outputs": []
    },
    {
      "cell_type": "code",
      "metadata": {
        "id": "ZvoHIFFKyP4S"
      },
      "source": [
        "x_sampled.columns=['Age',\t'Gender',\t'Days_spend_hsptl',\t'Admission_type',\t'Home or self care','ccs_diagnosis_code',\t'ccs_procedure_code','Code_illness','\tMortality risk','Surg_Description','Emergency dept_yes/No','Tot_charg',\t'Tot_cost','ratio_of_total_costs_to_total_charges','Payment_Typology']"
      ],
      "execution_count": 29,
      "outputs": []
    },
    {
      "cell_type": "code",
      "metadata": {
        "id": "mA-rbxhC24sN"
      },
      "source": [
        "y_sampled.columns=['Result']"
      ],
      "execution_count": 30,
      "outputs": []
    },
    {
      "cell_type": "code",
      "metadata": {
        "id": "1Q74u9D73Alz"
      },
      "source": [
        "x_sample_train, x_sample_test, y_sample_train, y_sample_test = train_test_split(x_sampled, y_sampled, test_size=0.2, stratify=y_sampled, random_state=2)"
      ],
      "execution_count": 31,
      "outputs": []
    },
    {
      "cell_type": "code",
      "metadata": {
        "colab": {
          "base_uri": "https://localhost:8080/"
        },
        "id": "pmU3MEsf3_6o",
        "outputId": "518daa2b-ee65-466c-8254-99dae8d40d8d"
      },
      "source": [
        "print(x_sampled.shape, x_sample_test.shape, x_sample_train.shape)"
      ],
      "execution_count": 32,
      "outputs": [
        {
          "output_type": "stream",
          "text": [
            "(130086, 15) (26018, 15) (104068, 15)\n"
          ],
          "name": "stdout"
        }
      ]
    },
    {
      "cell_type": "code",
      "metadata": {
        "colab": {
          "base_uri": "https://localhost:8080/"
        },
        "id": "SOdaWSoi4k_G",
        "outputId": "6b1a9b44-7420-4221-bc3c-c2c3dd9e9eb5"
      },
      "source": [
        "print(y_sampled.shape, y_sample_test.shape, y_sample_train.shape)"
      ],
      "execution_count": 33,
      "outputs": [
        {
          "output_type": "stream",
          "text": [
            "(130086, 1) (26018, 1) (104068, 1)\n"
          ],
          "name": "stdout"
        }
      ]
    },
    {
      "cell_type": "markdown",
      "metadata": {
        "id": "hFUzcsll8F7Q"
      },
      "source": [
        "Logistic Regression"
      ]
    },
    {
      "cell_type": "code",
      "metadata": {
        "id": "ztsT_eDe4wog"
      },
      "source": [
        "Logistic_model = LogisticRegression()"
      ],
      "execution_count": 34,
      "outputs": []
    },
    {
      "cell_type": "code",
      "metadata": {
        "colab": {
          "base_uri": "https://localhost:8080/"
        },
        "id": "JTOvMp2q4yrT",
        "outputId": "c5fa4de7-e6e3-4409-89d3-d3cec1a70c05"
      },
      "source": [
        "Logistic_model.fit(x_sample_train, y_sample_train)"
      ],
      "execution_count": 35,
      "outputs": [
        {
          "output_type": "stream",
          "text": [
            "/usr/local/lib/python3.7/dist-packages/sklearn/utils/validation.py:760: DataConversionWarning: A column-vector y was passed when a 1d array was expected. Please change the shape of y to (n_samples, ), for example using ravel().\n",
            "  y = column_or_1d(y, warn=True)\n"
          ],
          "name": "stderr"
        },
        {
          "output_type": "execute_result",
          "data": {
            "text/plain": [
              "LogisticRegression(C=1.0, class_weight=None, dual=False, fit_intercept=True,\n",
              "                   intercept_scaling=1, l1_ratio=None, max_iter=100,\n",
              "                   multi_class='auto', n_jobs=None, penalty='l2',\n",
              "                   random_state=None, solver='lbfgs', tol=0.0001, verbose=0,\n",
              "                   warm_start=False)"
            ]
          },
          "metadata": {
            "tags": []
          },
          "execution_count": 35
        }
      ]
    },
    {
      "cell_type": "code",
      "metadata": {
        "colab": {
          "base_uri": "https://localhost:8080/"
        },
        "id": "E9G0RriO5IQq",
        "outputId": "7e2018d3-820f-4a3f-9730-550bd46eec81"
      },
      "source": [
        "x_train_prediction = Logistic_model.predict(x_sample_train)\n",
        "training_data_accuracy = accuracy_score(x_train_prediction, y_sample_train)\n",
        "print('Accuracy on Training data : ', training_data_accuracy)"
      ],
      "execution_count": 36,
      "outputs": [
        {
          "output_type": "stream",
          "text": [
            "Accuracy on Training data :  0.5004131913748703\n"
          ],
          "name": "stdout"
        }
      ]
    },
    {
      "cell_type": "code",
      "metadata": {
        "colab": {
          "base_uri": "https://localhost:8080/"
        },
        "id": "0BqKOz3p5diq",
        "outputId": "643ddd41-6eb5-49cf-d08a-353e1d85c8b7"
      },
      "source": [
        "x_test_prediction = Logistic_model.predict(x_sample_test)\n",
        "testing_data_accuracy = accuracy_score(x_test_prediction, y_sample_test)\n",
        "print('Accuracy on Testing data : ', training_data_accuracy)"
      ],
      "execution_count": 37,
      "outputs": [
        {
          "output_type": "stream",
          "text": [
            "Accuracy on Testing data :  0.5004131913748703\n"
          ],
          "name": "stdout"
        }
      ]
    },
    {
      "cell_type": "markdown",
      "metadata": {
        "id": "iHzwKVU99FDR"
      },
      "source": [
        "Random Forest Classifier"
      ]
    },
    {
      "cell_type": "code",
      "metadata": {
        "id": "jI-dJZwW9Dt6"
      },
      "source": [
        "RFC_model = RandomForestClassifier()"
      ],
      "execution_count": 38,
      "outputs": []
    },
    {
      "cell_type": "code",
      "metadata": {
        "colab": {
          "base_uri": "https://localhost:8080/"
        },
        "id": "sYPx_siP9WxN",
        "outputId": "9cd80e65-65e3-474e-e417-1c75bd1e6200"
      },
      "source": [
        "RFC_model.fit(x_sample_train, y_sample_train)"
      ],
      "execution_count": 39,
      "outputs": [
        {
          "output_type": "stream",
          "text": [
            "/usr/local/lib/python3.7/dist-packages/ipykernel_launcher.py:1: DataConversionWarning: A column-vector y was passed when a 1d array was expected. Please change the shape of y to (n_samples,), for example using ravel().\n",
            "  \"\"\"Entry point for launching an IPython kernel.\n"
          ],
          "name": "stderr"
        },
        {
          "output_type": "execute_result",
          "data": {
            "text/plain": [
              "RandomForestClassifier(bootstrap=True, ccp_alpha=0.0, class_weight=None,\n",
              "                       criterion='gini', max_depth=None, max_features='auto',\n",
              "                       max_leaf_nodes=None, max_samples=None,\n",
              "                       min_impurity_decrease=0.0, min_impurity_split=None,\n",
              "                       min_samples_leaf=1, min_samples_split=2,\n",
              "                       min_weight_fraction_leaf=0.0, n_estimators=100,\n",
              "                       n_jobs=None, oob_score=False, random_state=None,\n",
              "                       verbose=0, warm_start=False)"
            ]
          },
          "metadata": {
            "tags": []
          },
          "execution_count": 39
        }
      ]
    },
    {
      "cell_type": "code",
      "metadata": {
        "colab": {
          "base_uri": "https://localhost:8080/"
        },
        "id": "jyd4xMkq9y32",
        "outputId": "bb921b70-dd9f-4862-f71a-5cba63bfcf05"
      },
      "source": [
        "x_train_prediction = RFC_model.predict(x_sample_train)\n",
        "training_data_accuracy = accuracy_score(x_train_prediction, y_sample_train)\n",
        "print('Accuracy on Training data : ', training_data_accuracy)"
      ],
      "execution_count": 40,
      "outputs": [
        {
          "output_type": "stream",
          "text": [
            "Accuracy on Training data :  0.9980973978552485\n"
          ],
          "name": "stdout"
        }
      ]
    },
    {
      "cell_type": "code",
      "metadata": {
        "colab": {
          "base_uri": "https://localhost:8080/"
        },
        "id": "3c-rfuuk96li",
        "outputId": "753eef71-f4a1-40f6-d1b6-0862a6bfb9b0"
      },
      "source": [
        "x_test_prediction = RFC_model.predict(x_sample_test)\n",
        "testing_data_accuracy = accuracy_score(x_test_prediction, y_sample_test)\n",
        "print('Accuracy on Testing data : ', training_data_accuracy)"
      ],
      "execution_count": 41,
      "outputs": [
        {
          "output_type": "stream",
          "text": [
            "Accuracy on Testing data :  0.9980973978552485\n"
          ],
          "name": "stdout"
        }
      ]
    },
    {
      "cell_type": "code",
      "metadata": {
        "id": "Q8hh7TU4-5md"
      },
      "source": [
        "input_data = (\t)\n",
        "4\t,1,\t54,\t1,\t18,\t209,\t0,\t2,\t3.0,\t0,\t1,\t11643.72,\t4009.35,\t0.344336,\t2\t\n",
        "# changing the input data to a numpy array\n",
        "input_data_as_numpy_array = np.asarray(input_data)\n",
        "\n",
        "# reshape the data as we are predicting the label for only one instance\n",
        "input_data_reshaped = input_data_as_numpy_array.reshape(1,-1)\n",
        "\n",
        "prediction = RFC_model.predict(input_data_reshaped)\n",
        "print(prediction)\n",
        "\n",
        "if (prediction[0]==1):\n",
        "  print('Genuine Claim')\n",
        "else:\n",
        "  print('Fraud Claim')"
      ],
      "execution_count": null,
      "outputs": []
    },
    {
      "cell_type": "code",
      "metadata": {
        "colab": {
          "base_uri": "https://localhost:8080/",
          "height": 487
        },
        "id": "c4vZpWXEKC4v",
        "outputId": "5089c4b8-3d0c-4415-fffc-9d3f4fa07ae2"
      },
      "source": [
        "insurance_data"
      ],
      "execution_count": 42,
      "outputs": [
        {
          "output_type": "execute_result",
          "data": {
            "text/html": [
              "<div>\n",
              "<style scoped>\n",
              "    .dataframe tbody tr th:only-of-type {\n",
              "        vertical-align: middle;\n",
              "    }\n",
              "\n",
              "    .dataframe tbody tr th {\n",
              "        vertical-align: top;\n",
              "    }\n",
              "\n",
              "    .dataframe thead th {\n",
              "        text-align: right;\n",
              "    }\n",
              "</style>\n",
              "<table border=\"1\" class=\"dataframe\">\n",
              "  <thead>\n",
              "    <tr style=\"text-align: right;\">\n",
              "      <th></th>\n",
              "      <th>Age</th>\n",
              "      <th>Gender</th>\n",
              "      <th>Days_spend_hsptl</th>\n",
              "      <th>Admission_type</th>\n",
              "      <th>Home or self care,</th>\n",
              "      <th>ccs_diagnosis_code</th>\n",
              "      <th>ccs_procedure_code</th>\n",
              "      <th>Code_illness</th>\n",
              "      <th>Mortality risk</th>\n",
              "      <th>Surg_Description</th>\n",
              "      <th>Emergency dept_yes/No</th>\n",
              "      <th>Tot_charg</th>\n",
              "      <th>Tot_cost</th>\n",
              "      <th>ratio_of_total_costs_to_total_charges</th>\n",
              "      <th>Payment_Typology</th>\n",
              "      <th>Result</th>\n",
              "    </tr>\n",
              "  </thead>\n",
              "  <tbody>\n",
              "    <tr>\n",
              "      <th>0</th>\n",
              "      <td>2</td>\n",
              "      <td>0</td>\n",
              "      <td>54</td>\n",
              "      <td>0</td>\n",
              "      <td>7</td>\n",
              "      <td>110</td>\n",
              "      <td>0</td>\n",
              "      <td>0</td>\n",
              "      <td>1.0</td>\n",
              "      <td>0</td>\n",
              "      <td>1</td>\n",
              "      <td>5511.95</td>\n",
              "      <td>5582.49</td>\n",
              "      <td>1.012798</td>\n",
              "      <td>0</td>\n",
              "      <td>1</td>\n",
              "    </tr>\n",
              "    <tr>\n",
              "      <th>2</th>\n",
              "      <td>2</td>\n",
              "      <td>0</td>\n",
              "      <td>43</td>\n",
              "      <td>5</td>\n",
              "      <td>7</td>\n",
              "      <td>110</td>\n",
              "      <td>0</td>\n",
              "      <td>0</td>\n",
              "      <td>1.0</td>\n",
              "      <td>0</td>\n",
              "      <td>1</td>\n",
              "      <td>3829.15</td>\n",
              "      <td>4056.52</td>\n",
              "      <td>1.059379</td>\n",
              "      <td>0</td>\n",
              "      <td>1</td>\n",
              "    </tr>\n",
              "    <tr>\n",
              "      <th>4</th>\n",
              "      <td>4</td>\n",
              "      <td>0</td>\n",
              "      <td>43</td>\n",
              "      <td>0</td>\n",
              "      <td>7</td>\n",
              "      <td>110</td>\n",
              "      <td>0</td>\n",
              "      <td>1</td>\n",
              "      <td>3.0</td>\n",
              "      <td>0</td>\n",
              "      <td>1</td>\n",
              "      <td>3418.18</td>\n",
              "      <td>3370.87</td>\n",
              "      <td>0.986161</td>\n",
              "      <td>0</td>\n",
              "      <td>1</td>\n",
              "    </tr>\n",
              "    <tr>\n",
              "      <th>5</th>\n",
              "      <td>0</td>\n",
              "      <td>0</td>\n",
              "      <td>0</td>\n",
              "      <td>0</td>\n",
              "      <td>7</td>\n",
              "      <td>130</td>\n",
              "      <td>0</td>\n",
              "      <td>0</td>\n",
              "      <td>1.0</td>\n",
              "      <td>0</td>\n",
              "      <td>1</td>\n",
              "      <td>1386.10</td>\n",
              "      <td>1919.46</td>\n",
              "      <td>1.384794</td>\n",
              "      <td>0</td>\n",
              "      <td>1</td>\n",
              "    </tr>\n",
              "    <tr>\n",
              "      <th>6</th>\n",
              "      <td>1</td>\n",
              "      <td>1</td>\n",
              "      <td>43</td>\n",
              "      <td>0</td>\n",
              "      <td>7</td>\n",
              "      <td>110</td>\n",
              "      <td>0</td>\n",
              "      <td>1</td>\n",
              "      <td>1.0</td>\n",
              "      <td>0</td>\n",
              "      <td>1</td>\n",
              "      <td>3373.10</td>\n",
              "      <td>3597.63</td>\n",
              "      <td>1.066565</td>\n",
              "      <td>0</td>\n",
              "      <td>1</td>\n",
              "    </tr>\n",
              "    <tr>\n",
              "      <th>...</th>\n",
              "      <td>...</td>\n",
              "      <td>...</td>\n",
              "      <td>...</td>\n",
              "      <td>...</td>\n",
              "      <td>...</td>\n",
              "      <td>...</td>\n",
              "      <td>...</td>\n",
              "      <td>...</td>\n",
              "      <td>...</td>\n",
              "      <td>...</td>\n",
              "      <td>...</td>\n",
              "      <td>...</td>\n",
              "      <td>...</td>\n",
              "      <td>...</td>\n",
              "      <td>...</td>\n",
              "      <td>...</td>\n",
              "    </tr>\n",
              "    <tr>\n",
              "      <th>1041260</th>\n",
              "      <td>4</td>\n",
              "      <td>0</td>\n",
              "      <td>76</td>\n",
              "      <td>1</td>\n",
              "      <td>18</td>\n",
              "      <td>94</td>\n",
              "      <td>29</td>\n",
              "      <td>1</td>\n",
              "      <td>3.0</td>\n",
              "      <td>0</td>\n",
              "      <td>1</td>\n",
              "      <td>69650.41</td>\n",
              "      <td>13896.82</td>\n",
              "      <td>0.199522</td>\n",
              "      <td>2</td>\n",
              "      <td>1</td>\n",
              "    </tr>\n",
              "    <tr>\n",
              "      <th>1041261</th>\n",
              "      <td>0</td>\n",
              "      <td>0</td>\n",
              "      <td>32</td>\n",
              "      <td>1</td>\n",
              "      <td>7</td>\n",
              "      <td>7</td>\n",
              "      <td>227</td>\n",
              "      <td>1</td>\n",
              "      <td>1.0</td>\n",
              "      <td>0</td>\n",
              "      <td>0</td>\n",
              "      <td>13587.38</td>\n",
              "      <td>3918.35</td>\n",
              "      <td>0.288382</td>\n",
              "      <td>2</td>\n",
              "      <td>1</td>\n",
              "    </tr>\n",
              "    <tr>\n",
              "      <th>1041262</th>\n",
              "      <td>3</td>\n",
              "      <td>1</td>\n",
              "      <td>25</td>\n",
              "      <td>1</td>\n",
              "      <td>15</td>\n",
              "      <td>138</td>\n",
              "      <td>87</td>\n",
              "      <td>3</td>\n",
              "      <td>4.0</td>\n",
              "      <td>0</td>\n",
              "      <td>1</td>\n",
              "      <td>104629.78</td>\n",
              "      <td>24746.64</td>\n",
              "      <td>0.236516</td>\n",
              "      <td>2</td>\n",
              "      <td>0</td>\n",
              "    </tr>\n",
              "    <tr>\n",
              "      <th>1041263</th>\n",
              "      <td>2</td>\n",
              "      <td>0</td>\n",
              "      <td>32</td>\n",
              "      <td>1</td>\n",
              "      <td>7</td>\n",
              "      <td>131</td>\n",
              "      <td>85</td>\n",
              "      <td>0</td>\n",
              "      <td>1.0</td>\n",
              "      <td>1</td>\n",
              "      <td>1</td>\n",
              "      <td>27521.41</td>\n",
              "      <td>6766.04</td>\n",
              "      <td>0.245846</td>\n",
              "      <td>2</td>\n",
              "      <td>1</td>\n",
              "    </tr>\n",
              "    <tr>\n",
              "      <th>1041264</th>\n",
              "      <td>3</td>\n",
              "      <td>1</td>\n",
              "      <td>32</td>\n",
              "      <td>1</td>\n",
              "      <td>7</td>\n",
              "      <td>94</td>\n",
              "      <td>0</td>\n",
              "      <td>0</td>\n",
              "      <td>1.0</td>\n",
              "      <td>0</td>\n",
              "      <td>1</td>\n",
              "      <td>24832.23</td>\n",
              "      <td>4974.66</td>\n",
              "      <td>0.200331</td>\n",
              "      <td>1</td>\n",
              "      <td>1</td>\n",
              "    </tr>\n",
              "  </tbody>\n",
              "</table>\n",
              "<p>937138 rows × 16 columns</p>\n",
              "</div>"
            ],
            "text/plain": [
              "         Age  Gender  ...  Payment_Typology  Result\n",
              "0          2       0  ...                 0       1\n",
              "2          2       0  ...                 0       1\n",
              "4          4       0  ...                 0       1\n",
              "5          0       0  ...                 0       1\n",
              "6          1       1  ...                 0       1\n",
              "...      ...     ...  ...               ...     ...\n",
              "1041260    4       0  ...                 2       1\n",
              "1041261    0       0  ...                 2       1\n",
              "1041262    3       1  ...                 2       0\n",
              "1041263    2       0  ...                 2       1\n",
              "1041264    3       1  ...                 1       1\n",
              "\n",
              "[937138 rows x 16 columns]"
            ]
          },
          "metadata": {
            "tags": []
          },
          "execution_count": 42
        }
      ]
    },
    {
      "cell_type": "code",
      "metadata": {
        "id": "2M77V1neKh7i"
      },
      "source": [
        "x = insurance_data.drop(columns='Result', axis=1)\n",
        "y = insurance_data['Result']"
      ],
      "execution_count": 43,
      "outputs": []
    },
    {
      "cell_type": "code",
      "metadata": {
        "colab": {
          "base_uri": "https://localhost:8080/"
        },
        "id": "JLyfm338Lt-G",
        "outputId": "6f55f924-d4a0-4c39-835d-0159b3a35e52"
      },
      "source": [
        "insurance_data['Result'].value_counts()"
      ],
      "execution_count": 44,
      "outputs": [
        {
          "output_type": "execute_result",
          "data": {
            "text/plain": [
              "1    702628\n",
              "0    234510\n",
              "Name: Result, dtype: int64"
            ]
          },
          "metadata": {
            "tags": []
          },
          "execution_count": 44
        }
      ]
    },
    {
      "cell_type": "code",
      "metadata": {
        "colab": {
          "base_uri": "https://localhost:8080/"
        },
        "id": "8wba1kKWNSFr",
        "outputId": "253953ba-0e7c-4aea-9e1d-0da9e3a40114"
      },
      "source": [
        "smk = SMOTETomek()\n",
        "x_res_whole,y_res_whole = smk.fit_sample(x,y)\n",
        "x_res_whole.shape,y_res_whole.shape"
      ],
      "execution_count": 45,
      "outputs": [
        {
          "output_type": "stream",
          "text": [
            "/usr/local/lib/python3.7/dist-packages/sklearn/utils/deprecation.py:87: FutureWarning: Function safe_indexing is deprecated; safe_indexing is deprecated in version 0.22 and will be removed in version 0.24.\n",
            "  warnings.warn(msg, category=FutureWarning)\n",
            "/usr/local/lib/python3.7/dist-packages/sklearn/utils/deprecation.py:87: FutureWarning: Function safe_indexing is deprecated; safe_indexing is deprecated in version 0.22 and will be removed in version 0.24.\n",
            "  warnings.warn(msg, category=FutureWarning)\n"
          ],
          "name": "stderr"
        },
        {
          "output_type": "execute_result",
          "data": {
            "text/plain": [
              "((1315280, 15), (1315280,))"
            ]
          },
          "metadata": {
            "tags": []
          },
          "execution_count": 45
        }
      ]
    },
    {
      "cell_type": "code",
      "metadata": {
        "colab": {
          "base_uri": "https://localhost:8080/"
        },
        "id": "PMJYmeulVP-b",
        "outputId": "c50cf716-d6ad-45c6-ab44-57c4550f6639"
      },
      "source": [
        "print('Original dataset shape {}'.format(Counter(y)))\n",
        "print('Resampled dataset shape {}'.format(Counter(y_res_whole)))"
      ],
      "execution_count": 46,
      "outputs": [
        {
          "output_type": "stream",
          "text": [
            "Original dataset shape Counter({1: 702628, 0: 234510})\n",
            "Resampled dataset shape Counter({1: 657640, 0: 657640})\n"
          ],
          "name": "stdout"
        }
      ]
    },
    {
      "cell_type": "code",
      "metadata": {
        "id": "aNNAZrCOVuoQ"
      },
      "source": [
        "x_whole=pd.DataFrame(x_res_whole)\n",
        "y_whole=pd.DataFrame(y_res_whole)"
      ],
      "execution_count": 47,
      "outputs": []
    },
    {
      "cell_type": "code",
      "metadata": {
        "id": "IViQjLJzVeTT"
      },
      "source": [
        "x_whole.columns=['Age',\t'Gender',\t'Days_spend_hsptl',\t'Admission_type',\t'Home or self care','ccs_diagnosis_code',\t'ccs_procedure_code','Code_illness','\tMortality risk','Surg_Description','Emergency dept_yes/No','Tot_charg',\t'Tot_cost','ratio_of_total_costs_to_total_charges','Payment_Typology']\n",
        "y_whole.columns=['Result']"
      ],
      "execution_count": 48,
      "outputs": []
    },
    {
      "cell_type": "code",
      "metadata": {
        "colab": {
          "base_uri": "https://localhost:8080/",
          "height": 415
        },
        "id": "ohYOsnQ5V8N2",
        "outputId": "845437cb-10f8-437d-b60d-a15e352d4584"
      },
      "source": [
        "y_whole"
      ],
      "execution_count": 49,
      "outputs": [
        {
          "output_type": "execute_result",
          "data": {
            "text/html": [
              "<div>\n",
              "<style scoped>\n",
              "    .dataframe tbody tr th:only-of-type {\n",
              "        vertical-align: middle;\n",
              "    }\n",
              "\n",
              "    .dataframe tbody tr th {\n",
              "        vertical-align: top;\n",
              "    }\n",
              "\n",
              "    .dataframe thead th {\n",
              "        text-align: right;\n",
              "    }\n",
              "</style>\n",
              "<table border=\"1\" class=\"dataframe\">\n",
              "  <thead>\n",
              "    <tr style=\"text-align: right;\">\n",
              "      <th></th>\n",
              "      <th>Result</th>\n",
              "    </tr>\n",
              "  </thead>\n",
              "  <tbody>\n",
              "    <tr>\n",
              "      <th>0</th>\n",
              "      <td>1</td>\n",
              "    </tr>\n",
              "    <tr>\n",
              "      <th>1</th>\n",
              "      <td>1</td>\n",
              "    </tr>\n",
              "    <tr>\n",
              "      <th>2</th>\n",
              "      <td>1</td>\n",
              "    </tr>\n",
              "    <tr>\n",
              "      <th>3</th>\n",
              "      <td>1</td>\n",
              "    </tr>\n",
              "    <tr>\n",
              "      <th>4</th>\n",
              "      <td>1</td>\n",
              "    </tr>\n",
              "    <tr>\n",
              "      <th>...</th>\n",
              "      <td>...</td>\n",
              "    </tr>\n",
              "    <tr>\n",
              "      <th>1315275</th>\n",
              "      <td>0</td>\n",
              "    </tr>\n",
              "    <tr>\n",
              "      <th>1315276</th>\n",
              "      <td>0</td>\n",
              "    </tr>\n",
              "    <tr>\n",
              "      <th>1315277</th>\n",
              "      <td>0</td>\n",
              "    </tr>\n",
              "    <tr>\n",
              "      <th>1315278</th>\n",
              "      <td>0</td>\n",
              "    </tr>\n",
              "    <tr>\n",
              "      <th>1315279</th>\n",
              "      <td>0</td>\n",
              "    </tr>\n",
              "  </tbody>\n",
              "</table>\n",
              "<p>1315280 rows × 1 columns</p>\n",
              "</div>"
            ],
            "text/plain": [
              "         Result\n",
              "0             1\n",
              "1             1\n",
              "2             1\n",
              "3             1\n",
              "4             1\n",
              "...         ...\n",
              "1315275       0\n",
              "1315276       0\n",
              "1315277       0\n",
              "1315278       0\n",
              "1315279       0\n",
              "\n",
              "[1315280 rows x 1 columns]"
            ]
          },
          "metadata": {
            "tags": []
          },
          "execution_count": 49
        }
      ]
    },
    {
      "cell_type": "code",
      "metadata": {
        "id": "Hsblu9saV9zH"
      },
      "source": [
        "x_train, x_test, y_train, y_test = train_test_split(x_whole, y_whole, test_size=0.2, stratify=y_whole, random_state=2)"
      ],
      "execution_count": 50,
      "outputs": []
    },
    {
      "cell_type": "code",
      "metadata": {
        "colab": {
          "base_uri": "https://localhost:8080/"
        },
        "id": "iKmxxQRtXAPh",
        "outputId": "73589402-eaf2-4c06-c7fa-0adedfca7663"
      },
      "source": [
        "print(x_whole.shape, x_train.shape, x_test.shape)"
      ],
      "execution_count": 51,
      "outputs": [
        {
          "output_type": "stream",
          "text": [
            "(1315280, 15) (1052224, 15) (263056, 15)\n"
          ],
          "name": "stdout"
        }
      ]
    },
    {
      "cell_type": "markdown",
      "metadata": {
        "id": "W2oc2hH4XazP"
      },
      "source": [
        "RFC on whole dataset"
      ]
    },
    {
      "cell_type": "code",
      "metadata": {
        "id": "r8-2KtSHXNfV"
      },
      "source": [
        "RFC_model_whole = RandomForestClassifier(max_features=3,min_samples_leaf=3,min_samples_split=2,n_jobs=-1)"
      ],
      "execution_count": 60,
      "outputs": []
    },
    {
      "cell_type": "code",
      "metadata": {
        "colab": {
          "base_uri": "https://localhost:8080/"
        },
        "id": "6ztsB7FYXmkz",
        "outputId": "8d5577c6-b8e5-4cd4-ca53-b5e2b93a40f2"
      },
      "source": [
        "RFC_model_whole.fit(x_train, y_train)"
      ],
      "execution_count": 61,
      "outputs": [
        {
          "output_type": "stream",
          "text": [
            "/usr/local/lib/python3.7/dist-packages/ipykernel_launcher.py:1: DataConversionWarning: A column-vector y was passed when a 1d array was expected. Please change the shape of y to (n_samples,), for example using ravel().\n",
            "  \"\"\"Entry point for launching an IPython kernel.\n"
          ],
          "name": "stderr"
        },
        {
          "output_type": "execute_result",
          "data": {
            "text/plain": [
              "RandomForestClassifier(bootstrap=True, ccp_alpha=0.0, class_weight=None,\n",
              "                       criterion='gini', max_depth=None, max_features=3,\n",
              "                       max_leaf_nodes=None, max_samples=None,\n",
              "                       min_impurity_decrease=0.0, min_impurity_split=None,\n",
              "                       min_samples_leaf=3, min_samples_split=2,\n",
              "                       min_weight_fraction_leaf=0.0, n_estimators=100,\n",
              "                       n_jobs=-1, oob_score=False, random_state=None, verbose=0,\n",
              "                       warm_start=False)"
            ]
          },
          "metadata": {
            "tags": []
          },
          "execution_count": 61
        }
      ]
    },
    {
      "cell_type": "code",
      "metadata": {
        "colab": {
          "base_uri": "https://localhost:8080/"
        },
        "id": "lJ_wcng_cAqi",
        "outputId": "90705e1e-9232-4766-eee4-2b27400e060e"
      },
      "source": [
        "x_train_prediction_whole = RFC_model_whole.predict(x_train)\n",
        "training_data_accuracy_whole = accuracy_score(x_train_prediction_whole, y_train)\n",
        "print('Accuracy on Training data : ', training_data_accuracy_whole)"
      ],
      "execution_count": 62,
      "outputs": [
        {
          "output_type": "stream",
          "text": [
            "Accuracy on Training data :  0.8692303159783468\n"
          ],
          "name": "stdout"
        }
      ]
    },
    {
      "cell_type": "code",
      "metadata": {
        "colab": {
          "base_uri": "https://localhost:8080/"
        },
        "id": "ybSR9WUeekAz",
        "outputId": "7d0b2025-b9a1-45cd-c118-bad4e25d5d5f"
      },
      "source": [
        "print(classification_report(y_train,x_train_prediction_whole))"
      ],
      "execution_count": 63,
      "outputs": [
        {
          "output_type": "stream",
          "text": [
            "              precision    recall  f1-score   support\n",
            "\n",
            "           0       0.99      0.74      0.85    526112\n",
            "           1       0.79      1.00      0.88    526112\n",
            "\n",
            "    accuracy                           0.87   1052224\n",
            "   macro avg       0.89      0.87      0.87   1052224\n",
            "weighted avg       0.89      0.87      0.87   1052224\n",
            "\n"
          ],
          "name": "stdout"
        }
      ]
    },
    {
      "cell_type": "code",
      "metadata": {
        "colab": {
          "base_uri": "https://localhost:8080/"
        },
        "id": "VTwi-g-lcrQd",
        "outputId": "82f72afe-5ff2-4325-cf10-3062da8df90b"
      },
      "source": [
        "x_test_prediction_whole = RFC_model_whole.predict(x_test)\n",
        "testing_data_accuracy_whole = accuracy_score(x_test_prediction_whole, y_test)\n",
        "print('Accuracy on Training data : ', testing_data_accuracy_whole)"
      ],
      "execution_count": 64,
      "outputs": [
        {
          "output_type": "stream",
          "text": [
            "Accuracy on Training data :  0.8297206678425887\n"
          ],
          "name": "stdout"
        }
      ]
    },
    {
      "cell_type": "code",
      "metadata": {
        "colab": {
          "base_uri": "https://localhost:8080/"
        },
        "id": "M5t3BYI9eEN2",
        "outputId": "bc778acb-3bad-4567-ead5-64ad9a0035a1"
      },
      "source": [
        "print(classification_report(y_test,x_test_prediction_whole))"
      ],
      "execution_count": 65,
      "outputs": [
        {
          "output_type": "stream",
          "text": [
            "              precision    recall  f1-score   support\n",
            "\n",
            "           0       0.98      0.67      0.80    131528\n",
            "           1       0.75      0.99      0.85    131528\n",
            "\n",
            "    accuracy                           0.83    263056\n",
            "   macro avg       0.87      0.83      0.83    263056\n",
            "weighted avg       0.87      0.83      0.83    263056\n",
            "\n"
          ],
          "name": "stdout"
        }
      ]
    },
    {
      "cell_type": "code",
      "metadata": {
        "id": "W9cw74wekZQq"
      },
      "source": [
        "\n",
        "### Create a Pickle file using serialization \n",
        "\n",
        "pickle_out = open(\"RCF.pkl\",\"wb\")\n",
        "pickle.dump(RFC_model_whole, pickle_out)\n",
        "pickle_out.close()"
      ],
      "execution_count": 67,
      "outputs": []
    },
    {
      "cell_type": "code",
      "metadata": {
        "colab": {
          "base_uri": "https://localhost:8080/"
        },
        "id": "aXGdVrBsm_5v",
        "outputId": "40561eec-89ca-43ad-f54f-2c45999a1101"
      },
      "source": [
        " joblib.dump(RFC_model_whole,  'RCF1.pkl',compress=3)"
      ],
      "execution_count": 69,
      "outputs": [
        {
          "output_type": "execute_result",
          "data": {
            "text/plain": [
              "['RCF1.pkl']"
            ]
          },
          "metadata": {
            "tags": []
          },
          "execution_count": 69
        }
      ]
    }
  ]
}